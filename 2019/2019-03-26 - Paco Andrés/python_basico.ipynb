{
 "cells": [
  {
   "cell_type": "markdown",
   "metadata": {},
   "source": [
    "## CURSO DE PYTHON 3.7 NIVEL BÁSICO\n",
    "\n",
    "    Objetivos de esta charla\n",
    "    Introducción\n",
    "    Características del lenguaje\n",
    "    Versiones e implementaciones\n",
    "    Elementos de un programa\n",
    "    Tipos de datos básicos y operadores\n",
    "    Colecciones \n",
    "    Control de flujo e iterables\n",
    "    Funciones\n",
    "    Módulos\n",
    "    Clases\n",
    "\n"
   ]
  },
  {
   "cell_type": "markdown",
   "metadata": {},
   "source": [
    "# Objetivos\n",
    "* Esto NO es un curso de programación\n",
    "* Si ya tienes experiencia en lenguajes (C++, Java)….. \n",
    "* ¿Buenas prácticas para programar en Python?\n",
    "* ¿Cual es su filosofía ?\n",
    "\n",
    "    * Cualquiera puede escribir Python pero…\n",
    "    * Otra cosa es escribir código efectivo, simple…..\n",
    "\n",
    "## **Pythonico**\n"
   ]
  },
  {
   "cell_type": "markdown",
   "metadata": {},
   "source": [
    "# Introducción\n",
    "* Creado por Guido van Rossum en 1989...\n",
    "* Está instalado en Linux desde sus inicios\n",
    "* En los últimos años han aumentado su adeptos\n",
    "* Es algo más lento que C++ (0.8% pérdida )\n",
    "* Usado en muchos ámbitos de la informática\n",
    "    Administración de sistemas\n",
    "    Ámbito científico\n",
    "    Deep learning, robótica \n",
    "\n",
    "Es un lenguaje pegamento  \n",
    "\n",
    "Dos grandes principios: legibilidad y transparencia\n"
   ]
  },
  {
   "cell_type": "markdown",
   "metadata": {},
   "source": [
    "# Caracteristicas de Python\n",
    "* Es interpretado \n",
    "* Hace hincapié en una sintaxis que genere código legible\n",
    "* Multiplataforma \n",
    "* Multiparadigma:\n",
    "    * Programación orientada a objetos\n",
    "    * Programación imperativa\n",
    "    * Programación funcional\n",
    "* Tipado dinámico\n",
    "* Extensas librerías para todo. (pip3)\n",
    "* Regla: Todo es un objeto. type(obj)\n",
    "* Gramática limpia:\n",
    "    * No hay aperturas y cierres de bloque\n",
    "    * Código totalmente indentado (4 espacios)\n",
    "    * Guía de estilo para python PEP8\n"
   ]
  },
  {
   "cell_type": "code",
   "execution_count": 3,
   "metadata": {},
   "outputs": [
    {
     "name": "stdout",
     "output_type": "stream",
     "text": [
      "<class 'int'>\n",
      "<class 'str'>\n"
     ]
    }
   ],
   "source": [
    "a=25\n",
    "print(type(a))\n",
    "b=\"paco andres\"\n",
    "print(type(b))"
   ]
  },
  {
   "cell_type": "markdown",
   "metadata": {},
   "source": [
    "# Versiones\n",
    "\n",
    "* Hay dos versiones del lenguaje:\n",
    "    * Python 2.7\n",
    "    * Python 3.x\n",
    "\n",
    "* Es preferible usar 3.x siempre que se pueda. \n",
    "\n",
    "* Usa python 3.x:\n",
    "    * Soporte oficial de 2.7 termina en 2020\n",
    "    * Más packages integrados de serie\n",
    "    * La inmensa mayoría de los paquetes están para 3.x\n",
    "    * No hay problemas de codificación de texto UTF8 \"# -*- coding: utf-8 -*-\" \n",
    "    * Fácil de aprender \n",
    "\n"
   ]
  },
  {
   "cell_type": "markdown",
   "metadata": {},
   "source": [
    "# Implementaciones\n",
    "* El intérprete genera bytecode para ejecutar.   Más rápido.\n",
    "* Cuando hablamos de implementaciones nos referimos principalmente a la forma de ejecutar el intérprete de python:\n",
    "    * Cpython (C nativo), Jpython (java) , Ironpython (C#)\n",
    "\n",
    "    * Pypy \n",
    "        * Rpython:\n",
    "        * python con tipos estáticos\n",
    "        * Reduced Python\n",
    "    * JIT:just in time compiler\n",
    "    * Mayor velocidad de ejecución. 6x\n",
    "    * Evita el GIL (global interpreter lock).\n",
    "    * stackless. podemos ejecutar en modo stackless, proporcionando microhilos de concurrencia masiva\n",
    "\n",
    "    * Micropython\n",
    "        * Microcontroladores con python. IOT (esp32, teensy,esp8266) \n"
   ]
  },
  {
   "cell_type": "markdown",
   "metadata": {},
   "source": [
    "# Elementos de un programa\n",
    "* Dos formas de usarlo:\n",
    "    * Usando directamente el intérprete. Comando Python consola >>>\n",
    "    * Generando un fichero Python. fichero.py \n",
    "\n",
    "* Anaconda (gestión de entornos Python con herramientas)\n",
    "    * Notebooks (python en navegador)\n",
    "\n",
    "* Un programa contiene:\n",
    "    * Palabras reservadas (keywords)\n",
    "    * Funciones integradas (built-in functions)\n",
    "    * Literales\n",
    "    * Operadores\n",
    "    * Delimitadores de expresiones\n",
    "    * Identificadores \n"
   ]
  },
  {
   "cell_type": "code",
   "execution_count": 7,
   "metadata": {},
   "outputs": [
    {
     "name": "stdout",
     "output_type": "stream",
     "text": [
      "0\n",
      "78.53981633974483\n",
      "1\n",
      "78.53981633974483\n",
      "2\n",
      "78.53981633974483\n",
      "3\n",
      "78.53981633974483\n",
      "4\n",
      "78.53981633974483\n",
      "5\n",
      "78.53981633974483\n",
      "6\n",
      "78.53981633974483\n",
      "7\n",
      "78.53981633974483\n",
      "8\n",
      "78.53981633974483\n",
      "9\n",
      "78.53981633974483\n",
      "10\n",
      "78.53981633974483\n",
      "11\n",
      "78.53981633974483\n",
      "12\n",
      "78.53981633974483\n",
      "13\n",
      "78.53981633974483\n",
      "14\n",
      "78.53981633974483\n",
      "15\n",
      "78.53981633974483\n",
      "16\n",
      "78.53981633974483\n",
      "17\n",
      "78.53981633974483\n",
      "18\n",
      "78.53981633974483\n",
      "19\n",
      "78.53981633974483\n",
      "20\n",
      "78.53981633974483\n",
      "21\n",
      "78.53981633974483\n",
      "22\n",
      "78.53981633974483\n",
      "23\n",
      "78.53981633974483\n",
      "24\n",
      "78.53981633974483\n",
      "25\n",
      "78.53981633974483\n",
      "26\n",
      "78.53981633974483\n",
      "27\n",
      "78.53981633974483\n",
      "28\n",
      "78.53981633974483\n",
      "29\n",
      "78.53981633974483\n",
      "30\n",
      "78.53981633974483\n",
      "31\n",
      "78.53981633974483\n",
      "32\n",
      "78.53981633974483\n",
      "33\n",
      "78.53981633974483\n",
      "34\n",
      "78.53981633974483\n",
      "35\n",
      "78.53981633974483\n",
      "36\n",
      "78.53981633974483\n",
      "37\n",
      "78.53981633974483\n",
      "38\n",
      "78.53981633974483\n",
      "39\n",
      "78.53981633974483\n",
      "40\n",
      "78.53981633974483\n",
      "41\n",
      "78.53981633974483\n",
      "42\n",
      "78.53981633974483\n",
      "43\n",
      "78.53981633974483\n",
      "44\n",
      "78.53981633974483\n",
      "45\n",
      "78.53981633974483\n",
      "46\n",
      "78.53981633974483\n",
      "47\n",
      "78.53981633974483\n",
      "48\n",
      "78.53981633974483\n",
      "49\n",
      "78.53981633974483\n",
      "50\n",
      "78.53981633974483\n",
      "51\n",
      "78.53981633974483\n",
      "52\n",
      "78.53981633974483\n",
      "53\n",
      "78.53981633974483\n",
      "54\n",
      "78.53981633974483\n",
      "55\n",
      "78.53981633974483\n",
      "56\n",
      "78.53981633974483\n",
      "57\n",
      "78.53981633974483\n",
      "58\n",
      "78.53981633974483\n",
      "59\n",
      "78.53981633974483\n",
      "60\n",
      "78.53981633974483\n",
      "61\n",
      "78.53981633974483\n",
      "62\n",
      "78.53981633974483\n",
      "63\n",
      "78.53981633974483\n",
      "64\n",
      "78.53981633974483\n",
      "65\n",
      "78.53981633974483\n",
      "66\n",
      "78.53981633974483\n",
      "67\n",
      "78.53981633974483\n",
      "68\n",
      "78.53981633974483\n",
      "69\n",
      "78.53981633974483\n",
      "70\n",
      "78.53981633974483\n",
      "71\n",
      "78.53981633974483\n",
      "72\n",
      "78.53981633974483\n",
      "73\n",
      "78.53981633974483\n",
      "74\n",
      "78.53981633974483\n",
      "75\n",
      "78.53981633974483\n",
      "76\n",
      "78.53981633974483\n",
      "77\n",
      "78.53981633974483\n",
      "78\n",
      "78.53981633974483\n",
      "79\n",
      "78.53981633974483\n",
      "80\n",
      "78.53981633974483\n",
      "81\n",
      "78.53981633974483\n",
      "82\n",
      "78.53981633974483\n",
      "83\n",
      "78.53981633974483\n",
      "84\n",
      "78.53981633974483\n",
      "85\n",
      "78.53981633974483\n",
      "86\n",
      "78.53981633974483\n",
      "87\n",
      "78.53981633974483\n",
      "88\n",
      "78.53981633974483\n",
      "89\n",
      "78.53981633974483\n",
      "90\n",
      "78.53981633974483\n",
      "91\n",
      "78.53981633974483\n",
      "92\n",
      "78.53981633974483\n",
      "93\n",
      "78.53981633974483\n",
      "94\n",
      "78.53981633974483\n",
      "95\n",
      "78.53981633974483\n",
      "96\n",
      "78.53981633974483\n",
      "97\n",
      "78.53981633974483\n",
      "98\n",
      "78.53981633974483\n",
      "99\n",
      "78.53981633974483\n"
     ]
    }
   ],
   "source": [
    "Radio = 5\n",
    "for x in range(100):\n",
    "   print(x)\n",
    "   area = 3.14159265358979323846 * Radio ** 2\n",
    "   print(area)\n"
   ]
  },
  {
   "cell_type": "markdown",
   "metadata": {},
   "source": [
    "# Tipos de datos básicos\n",
    "* Comentarios:\n",
    "\n",
    "    * Una línea:\n",
    "        * \\# esto es un comentario\n",
    "\n",
    "    * Varias líneas o documentación:\n",
    "        * \\“”” esto es \n",
    "         un comentario de varias línea\n",
    "    \\“””\n",
    "        * def funcion():\n",
    "        \\“”” esto es la doc de función\\”””\n",
    "        \n",
    "        \n",
    "        \n",
    "        \n",
    "* Operaciones matemáticas básicas\n",
    "* Divisiones enteras con el operador //\n",
    "* Divisiones en coma flotante con el operador /\n",
    "\n",
    "    "
   ]
  },
  {
   "cell_type": "code",
   "execution_count": 1,
   "metadata": {
    "scrolled": true
   },
   "outputs": [
    {
     "name": "stdout",
     "output_type": "stream",
     "text": [
      "10.12\n",
      "5\n",
      "2.0\n",
      "2\n"
     ]
    }
   ],
   "source": [
    "a=10\n",
    "b=.12\n",
    "c= 5\n",
    "print(a+b)\n",
    "print(a-c)\n",
    "print(a/c)  # / para división en coma flotante\n",
    "print(a//c) # // para división entera"
   ]
  },
  {
   "cell_type": "markdown",
   "metadata": {},
   "source": [
    "## Operaciones operaciones booleanas\n",
    "* El tipo booleano es una primitiva\n",
    "        * True\n",
    "        * False\n",
    "* Operadores booleanos \n",
    "        * and\n",
    "        * or\n",
    "        * not\n",
    "* 0 es False\n",
    "* 1 es True (sólo 1)\n",
    "\n",
    "* La igualdad es ==\n",
    "* La desigualdad !=\n",
    "\n"
   ]
  },
  {
   "cell_type": "code",
   "execution_count": 13,
   "metadata": {},
   "outputs": [
    {
     "name": "stdout",
     "output_type": "stream",
     "text": [
      "False\n",
      "True\n"
     ]
    }
   ],
   "source": [
    "a=True\n",
    "b=False\n",
    "print(a and b)\n",
    "print(a or b) "
   ]
  },
  {
   "cell_type": "code",
   "execution_count": 14,
   "metadata": {},
   "outputs": [
    {
     "name": "stdout",
     "output_type": "stream",
     "text": [
      "True\n",
      "True\n",
      "False\n"
     ]
    }
   ],
   "source": [
    "cero = 0\n",
    "uno =1\n",
    "\n",
    "print(cero == False)\n",
    "print(uno == True)\n",
    "print(2 == True) "
   ]
  },
  {
   "cell_type": "markdown",
   "metadata": {},
   "source": [
    "## Tipos de datos básicos. El operador is\n",
    "\n",
    "<, >, =, >=, <= son operadores booleanos \n",
    "\n",
    "Las comparaciones pueden ser encadenadas\n",
    "\n",
    "El operador is se usa para comparar objetos\n",
    "\n",
    "No confundir con ==\n",
    "\n",
    "Is se usa para determinar si dos objetos se refieren al mismo objeto (apuntan)\n",
    "\n",
    "==  para comparar el contenido"
   ]
  },
  {
   "cell_type": "code",
   "execution_count": 2,
   "metadata": {},
   "outputs": [
    {
     "name": "stdout",
     "output_type": "stream",
     "text": [
      "False\n",
      "True\n",
      "True\n"
     ]
    }
   ],
   "source": [
    "a=1\n",
    "b=2\n",
    "c=4\n",
    "print(a>b)\n",
    "print(a<=c)\n",
    "print(a<b<c)"
   ]
  },
  {
   "cell_type": "code",
   "execution_count": 15,
   "metadata": {},
   "outputs": [
    {
     "name": "stdout",
     "output_type": "stream",
     "text": [
      "1933228784 1933228816 1933228784 1933228816\n",
      "False\n",
      "True\n",
      "False\n",
      "True\n"
     ]
    }
   ],
   "source": [
    "a=1\n",
    "b=2\n",
    "c=a\n",
    "d=b\n",
    "print (id(a),id(b),id(c),id(d))\n",
    "\n",
    "print(a is b)\n",
    "print(a is c)\n",
    "print(a is d)\n",
    "print(a is not b)"
   ]
  },
  {
   "cell_type": "markdown",
   "metadata": {},
   "source": [
    "## Tipos de datos básicos. El tipo de datos None\n",
    "\n",
    "None se usa en conjunción con is para evaluar objetos\n",
    "\n",
    "None es de tipo (NoneType)\n",
    "\n",
    "se puede asignar pero no crear objetos NoneType\n",
    "\n",
    "No es 0, False ni cadena vacía\n",
    "\n",
    "NO es recomendable usarlo con == para hacer comparaciones\n",
    "\n",
    "* Sirve para asignar una variable si no sabemos de antemano qué tipo va a tener.\n",
    "* Como variable comodín para auto-asignarle un valor.\n"
   ]
  },
  {
   "cell_type": "code",
   "execution_count": 16,
   "metadata": {},
   "outputs": [
    {
     "name": "stdout",
     "output_type": "stream",
     "text": [
      "<class 'NoneType'>\n",
      "True\n"
     ]
    }
   ],
   "source": [
    "a=None\n",
    "\n",
    "print (type(a))\n",
    "print(a is None)"
   ]
  },
  {
   "cell_type": "markdown",
   "metadata": {},
   "source": [
    "## Tipos de datos básicos. Cadenas\n",
    "\n",
    "* Los string se definen con “ o con ‘\n",
    "* Si son literales:\n",
    "    * Pueden concatenarse con + o con espacio\n",
    "    * Lo mejor es usar esta segunda opción\n",
    "* Los string se definen con “ o con ‘\n",
    "* Si son literales:\n",
    "    * Pueden concatenarse con + o con espacio\n",
    "    * Lo mejor es usar esta segunda opción\n",
    "* Son listas (vectores) en sí mismos \n",
    "* Sobre strings hay multitud de operaciones que podemos aplicar.\n",
    "\n",
    "\n"
   ]
  },
  {
   "cell_type": "code",
   "execution_count": 17,
   "metadata": {},
   "outputs": [
    {
     "name": "stdout",
     "output_type": "stream",
     "text": [
      "hola mundo\n",
      "hola mundo\n",
      " esto es \"hola mundo\" cadena\n",
      "28\n",
      "\"\n"
     ]
    }
   ],
   "source": [
    "#concatenar cadenas\n",
    "a=\"hola\" \" mundo\"\n",
    "b=\"hola \"+\"mundo\"\n",
    "\n",
    "c=' esto es \"hola mundo\" cadena'\n",
    "\n",
    "print(a)\n",
    "print(b)\n",
    "print(c)\n",
    "print(len(c))\n",
    "print(c[9])"
   ]
  },
  {
   "cell_type": "markdown",
   "metadata": {},
   "source": [
    "Hay diferentes formas de formatear strings:"
   ]
  },
  {
   "cell_type": "code",
   "execution_count": 1,
   "metadata": {},
   "outputs": [],
   "source": [
    "#formateo de cadenas\n",
    "print(\"Número de msg: {}. Tipo {}\".format(10,\"entero\"))\n",
    "print(\"la {0} de color {1} es {1}\".format(\"casa\",\"azul\") )\n",
    "print(\"la {ob} de color {col} es {col}\".format(col=\"azul\",ob=\"azul\") )"
   ]
  },
  {
   "cell_type": "markdown",
   "metadata": {},
   "source": [
    "* La función print se usa para escribir por terminal\n",
    "* Para pedir datos al usuario usamos input:"
   ]
  },
  {
   "cell_type": "code",
   "execution_count": 2,
   "metadata": {},
   "outputs": [
    {
     "name": "stdout",
     "output_type": "stream",
     "text": [
      "dame un número:ddf\n"
     ]
    }
   ],
   "source": [
    "#impresión y petición de datos \n",
    "print(\"esto es PYTHON para todos\")\n",
    "print(\"esto es PYTHON para todos\",end=\"-->\")\n",
    "print(\"fin\")\n",
    "\n",
    "#mivar=input(\"dame un número:\") Uncoment to use"
   ]
  },
  {
   "cell_type": "markdown",
   "metadata": {},
   "source": [
    "## Tipos de datos básicos. Variables\n",
    "* Si hablamos de variables:\n",
    "    * No hay declaración de tipo\n",
    "    * Podemos asignarla con diferentes tipos\n",
    "    * No podemos usarla si al menos no hay una asignación\n",
    "* Podemos usar como en otros lenguaje operadores ternarios basados en una condición.\n"
   ]
  },
  {
   "cell_type": "code",
   "execution_count": 5,
   "metadata": {},
   "outputs": [
    {
     "name": "stdout",
     "output_type": "stream",
     "text": [
      "10\n",
      "pepe\n"
     ]
    },
    {
     "ename": "NameError",
     "evalue": "name 'unavar' is not defined",
     "output_type": "error",
     "traceback": [
      "\u001b[1;31m---------------------------------------------------------------------------\u001b[0m",
      "\u001b[1;31mNameError\u001b[0m                                 Traceback (most recent call last)",
      "\u001b[1;32m<ipython-input-5-0130c1b20d8f>\u001b[0m in \u001b[0;36m<module>\u001b[1;34m\u001b[0m\n\u001b[0;32m      3\u001b[0m \u001b[0mvar\u001b[0m\u001b[1;33m=\u001b[0m\u001b[1;34m\"pepe\"\u001b[0m\u001b[1;33m\u001b[0m\u001b[1;33m\u001b[0m\u001b[0m\n\u001b[0;32m      4\u001b[0m \u001b[0mprint\u001b[0m\u001b[1;33m(\u001b[0m\u001b[0mvar\u001b[0m\u001b[1;33m)\u001b[0m\u001b[1;33m\u001b[0m\u001b[1;33m\u001b[0m\u001b[0m\n\u001b[1;32m----> 5\u001b[1;33m \u001b[0mprint\u001b[0m\u001b[1;33m(\u001b[0m\u001b[0munavar\u001b[0m\u001b[1;33m)\u001b[0m  \u001b[1;31m#esto retorna error porque a no está asignada\u001b[0m\u001b[1;33m\u001b[0m\u001b[1;33m\u001b[0m\u001b[0m\n\u001b[0m",
      "\u001b[1;31mNameError\u001b[0m: name 'unavar' is not defined"
     ]
    }
   ],
   "source": [
    "var=10\n",
    "print(var)\n",
    "var=\"pepe\"\n",
    "print(var)\n",
    "print(unavar)  #esto retorna error porque a no está asignada"
   ]
  },
  {
   "cell_type": "code",
   "execution_count": 6,
   "metadata": {},
   "outputs": [
    {
     "name": "stdout",
     "output_type": "stream",
     "text": [
      "pepe\n",
      "manuel\n"
     ]
    }
   ],
   "source": [
    "#un operador ternario\n",
    "var=\"pepe\"\n",
    "print(var)\n",
    "\n",
    "a= \"manuel\" if var==\"pepe\" else 3\n",
    "print(a)"
   ]
  },
  {
   "cell_type": "markdown",
   "metadata": {},
   "source": [
    "Podemos hacer asignaciones múltiples:"
   ]
  },
  {
   "cell_type": "code",
   "execution_count": 7,
   "metadata": {},
   "outputs": [
    {
     "name": "stdout",
     "output_type": "stream",
     "text": [
      "1 2\n",
      "2 1\n"
     ]
    }
   ],
   "source": [
    "A,B = 1,2\n",
    "print(A,B)\n",
    "\n",
    "B,A = A,B\n",
    "print(A,B)"
   ]
  },
  {
   "cell_type": "markdown",
   "metadata": {},
   "source": [
    "## Colecciones\n",
    "* Aparte de los tipos simples que hemos visto, python cuenta con colecciones de objetos:\n",
    "\n",
    "    * Listas.             Almacenan colecciones de objetos [  ]\n",
    "    * Tuplas.              Almacenan colecciones de objetos (inmutables) ( )\n",
    "    * Set.               Colecciones de objetos distintos. {  }\n",
    "    * Diccionarios.     Colecciones de objetos asociados a una clave. {k:v}\n",
    "\n",
    "\n",
    "* NO hay más tipos estructurados.\n",
    "\n",
    "* Recordar : En Python todo es un objeto. \n",
    "* Casi todas las combinaciones son válidas\n",
    "\n",
    " # GENIAL\n"
   ]
  },
  {
   "cell_type": "markdown",
   "metadata": {},
   "source": [
    "Las listas almacenan colecciones de objetos heterogéneos.\n",
    "\n",
    "Todo en python son objetos\n"
   ]
  },
  {
   "cell_type": "code",
   "execution_count": 9,
   "metadata": {},
   "outputs": [
    {
     "name": "stdout",
     "output_type": "stream",
     "text": [
      "[]\n",
      "[1, 2, 3, 4]\n",
      "[[], [1, 2, 3, 4]]\n"
     ]
    }
   ],
   "source": [
    "lis=[]\n",
    "lis1=[1,2,3,4]\n",
    "mat=[lis,lis1]\n",
    "print(lis)\n",
    "print(lis1)\n",
    "print(mat)"
   ]
  },
  {
   "cell_type": "markdown",
   "metadata": {},
   "source": [
    "Operaciones de inserción y borrado:"
   ]
  },
  {
   "cell_type": "code",
   "execution_count": 11,
   "metadata": {},
   "outputs": [
    {
     "name": "stdout",
     "output_type": "stream",
     "text": [
      "[30, 1, 4, 5, 'e', 'd']\n"
     ]
    }
   ],
   "source": [
    "lista=[1,2,3,4] #crear lista\n",
    "\n",
    "lista.append(5) #insertar valores al final\n",
    "\n",
    "lista.append(10) # [1, 2, 3, 4, 5, 10]\n",
    "\n",
    "lista.pop()      # recuperar valores y borrarlos[1, 2, 3, 4, 5]\n",
    "\n",
    "del(lista[2])    # borrar un valor determinado [1, 2, 4, 5]\n",
    "\n",
    "lista.remove(2)  # borrar una ocurrencia concreta [1, 4, 5]\n",
    "\n",
    "\n",
    "\n",
    "lista.insert(0,30) # insertar en una posición un valor [30, 1, 4, 5]\n",
    "\n",
    "lista.extend([\"e\",\"d\"]) # concatenar dos listas [30, 1, 4, 5, 'e', 'd']\n",
    "\n",
    "print(lista)"
   ]
  },
  {
   "cell_type": "markdown",
   "metadata": {},
   "source": [
    "### Listas. Slicing\n",
    "La forma de acceder a partes o trozos de una lista se denomina slicing\n",
    "lista[start:end:step]\n"
   ]
  },
  {
   "cell_type": "code",
   "execution_count": 12,
   "metadata": {},
   "outputs": [
    {
     "name": "stdout",
     "output_type": "stream",
     "text": [
      "True\n"
     ]
    }
   ],
   "source": [
    "milista=[1,2,3,4,5,6,7,8,9,10]\n",
    "\n",
    "# el primer elemento\n",
    "milista[0]  # [1]\n",
    "\n",
    "# el ultimo elemento. en negativo seleccionas hacia atras\n",
    "milista[-1] # [10]\n",
    "\n",
    "# desde un indice a otro indice intervalo cerrado abierto\n",
    "milista[2:4] # [3,4]\n",
    "\n",
    "# el tercer parametro es el paso\n",
    "milista[::2] # [1, 3, 5, 7, 9]\n",
    "\n",
    "# para invertirla\n",
    "milista[::-1] # [10, 9, 8, 7, 6, 5, 4, 3, 2, 1]\n",
    "\n",
    "# el tamanio\n",
    "len(milista) # 10\n",
    "\n",
    "#podemos preguntar si x pertenece a la lista\n",
    "print (1 in milista) # True"
   ]
  },
  {
   "cell_type": "markdown",
   "metadata": {},
   "source": [
    "\n",
    "Los string son listas y por tanto todo lo que se aplica a listas se aplica a string"
   ]
  },
  {
   "cell_type": "code",
   "execution_count": 13,
   "metadata": {},
   "outputs": [
    {
     "name": "stdout",
     "output_type": "stream",
     "text": [
      "PERICO\n",
      "setolap sol ed le ocirep\n",
      "['PERICO', 'EL', 'DE', 'LOS', 'PALOTES']\n"
     ]
    }
   ],
   "source": [
    "cad=\"PERICO EL DE LOS PALOTES\"\n",
    "\n",
    "print(cad[0:6])\n",
    "otra=cad[::-1].lower()\n",
    "print(otra)\n",
    "print(cad.split(\" \"))"
   ]
  },
  {
   "cell_type": "markdown",
   "metadata": {},
   "source": [
    "### Tuplas\n",
    "Las tuplas tienen las mismas propiedades que las listas excepto que son ** inmutables**.\n",
    "\n",
    "Por tanto no podemos aplicar operaciones de inserción y borrado\n",
    "\n",
    "Su uso se centra en el la entrada y retorno de parámetros\n"
   ]
  },
  {
   "cell_type": "code",
   "execution_count": null,
   "metadata": {},
   "outputs": [],
   "source": [
    "# para crear una tupla con un elemento hay que poner coma\n",
    "\n",
    "entero=(1) # entero vale 1\n",
    "tupla=(10,)\n",
    "\n",
    "# se puede crear sin usar paréntesis\n",
    "tupla2=1,2,3  # (1,2,3)\n",
    "\n",
    "# podemos usar como en las listas el operador +\n",
    "t=tupla2+(4,5,6) # (1,2,3,4,5,6)"
   ]
  },
  {
   "cell_type": "markdown",
   "metadata": {},
   "source": [
    "\n",
    "Otra característica de tuplas y listas  es el desempaquetado\n",
    "\n"
   ]
  },
  {
   "cell_type": "code",
   "execution_count": 16,
   "metadata": {},
   "outputs": [
    {
     "name": "stdout",
     "output_type": "stream",
     "text": [
      "aa bb cc\n",
      "bb\n",
      "1 [2, 3, 4, 5] 6\n"
     ]
    }
   ],
   "source": [
    "tupla1=('aa','bb','cc')\n",
    "tupla2=1,2,3,4,5,6\n",
    "\n",
    "#podemos separarla en valores. deben de coincidir el n de valores\n",
    "a,b,c=tupla1 #a='aa' b='bb' c='cc'\n",
    "print(a,b,c)\n",
    "# podemos obviar ciertos valores\n",
    "_,a,_=tupla1 # a='bb'\n",
    "print(a)\n",
    "#podemos separar listas grandes en distinto metraje PYTHON3\n",
    "a,*b,c=tupla2 # a=1 b=(2,3,4,5) c=6\n",
    "print(a,b,c)"
   ]
  },
  {
   "cell_type": "markdown",
   "metadata": {},
   "source": [
    "### Conjuntos\n",
    "* Los set son listas de valores únicos. \n",
    "* El contenido de los set sólo pueden ser valores inmutables\n",
    "> string, int, float, y tupla\n",
    "* Se definen con { } o con la palabra reservada set() \n",
    "* Operaciones de creación e inserción:\n"
   ]
  },
  {
   "cell_type": "code",
   "execution_count": 17,
   "metadata": {},
   "outputs": [],
   "source": [
    "# crear sets\n",
    "con1 = {1, 1, 2, 2, 3, 4}\n",
    "con2=set((1,2,2,1))\n",
    "con_vacio=set()  #  no usar {} esto crea un dict\n",
    "\n",
    "con3={(1,2),(2,3)}\n",
    "\n",
    "# insertar y borrar\n",
    "con1.add(5)\n",
    "con1.add(6)\n",
    "\n",
    "con1.remove(2)  # si no existe retorna error\n",
    "con1.discard(2) # si existe lo borra\n",
    "con1.clear()    # vacía el conjunto"
   ]
  },
  {
   "cell_type": "markdown",
   "metadata": {},
   "source": [
    "Operaciones sobre conjuntos que todos conocemos:"
   ]
  },
  {
   "cell_type": "code",
   "execution_count": 18,
   "metadata": {},
   "outputs": [
    {
     "name": "stdout",
     "output_type": "stream",
     "text": [
      "False\n",
      "False\n",
      "False\n",
      "False\n",
      "si\n"
     ]
    }
   ],
   "source": [
    "con1 = {1, 1, 2, 2, 3, 4}\n",
    "con2=set((1,3,5,7,9))\n",
    "\n",
    "a=con1 & con2  # interseción\n",
    "a=con1.intersection(con2)\n",
    "\n",
    "b=con1 | con2 # union\n",
    "b=con1.union(con2)\n",
    "\n",
    "c=con1 - con2 # diferencia\n",
    "c=con1.difference(con2)\n",
    "\n",
    "d=con1 ^ con2 # diferencia simetrica\n",
    "d=con1.symmetric_difference(con2)\n",
    "\n",
    "print(con1 >=con2) # con1 es superset de con2\n",
    "print(con1.issuperset(con2))\n",
    "\n",
    "print(con1 <=con2) # con1 es subset de con2\n",
    "print(con1.issubset(con2))\n",
    "\n",
    "if 2 in con1:  # 2 esta en el set\n",
    "   print(\"si\")"
   ]
  },
  {
   "cell_type": "markdown",
   "metadata": {},
   "source": [
    "# Diccionarios\n",
    "* Un diccionario es una array asociativo\n",
    "* Asocia un valor con una clave\n",
    "* la clave sólo puede ser un tipo inmutable\n",
    "> string, int, float, y tupla\n"
   ]
  },
  {
   "cell_type": "code",
   "execution_count": null,
   "metadata": {},
   "outputs": [],
   "source": [
    "#un diccionario se define con {}\n",
    "midict = {\"one\": 1, \"two\": 2, \"three\": 3}\n",
    "otro_dict={}\n",
    "\n",
    "\n",
    "# podemos leer, insertar y modificar sus valores usando como índice su clave\n",
    "midict[\"one\"]=12  # modifica el valor asociado a \"one\"\n",
    "\n",
    "a=midict[\"one\"] # a=1  si la clave no existe genera un error\n",
    "\n",
    "midict[\"four\"]=11 # asigna el valor 11 a la clave four\n",
    "\n",
    "# borrar una entrada\n",
    "del(midict[\"four\"])\n",
    "\n",
    "# podemos chequear si una clave existe. El nombre del dict  como iterador de claves\n",
    "\"one\" in midict"
   ]
  },
  {
   "cell_type": "markdown",
   "metadata": {},
   "source": [
    "Otras funcionalidades de los diccionarios:"
   ]
  },
  {
   "cell_type": "code",
   "execution_count": 20,
   "metadata": {},
   "outputs": [
    {
     "name": "stdout",
     "output_type": "stream",
     "text": [
      "{'uno': 1, 'dos': 2, 'tres': 3, 'cuatro': 4, 'cinco': 5}\n"
     ]
    }
   ],
   "source": [
    "midict = {\"uno\": 1, \"dos\": 2, \"tres\": 3}\n",
    "# get no genera error si la clave no existe\n",
    "\n",
    "a=midict.get(\"cuatro\") # a vale None\n",
    "\n",
    "# para insertar datos en un diccionario\n",
    "midict.setdefault(\"cuatro\",4) # sólo inserta si la clave NO existe\n",
    "midict.setdefault(\"cuatro\",5)\n",
    "\n",
    "# unir dos diccionarios\n",
    "midict.update({\"cinco\":5,\"cuatro\":4})\n",
    "print (midict)\n",
    "# {'uno': 1, 'dos': 2, 'tres': 3, 'cuatro': 4, 'cinco': 5}\n"
   ]
  },
  {
   "cell_type": "markdown",
   "metadata": {},
   "source": [
    "También podemos extraer las claves y los valores separados:"
   ]
  },
  {
   "cell_type": "code",
   "execution_count": 21,
   "metadata": {},
   "outputs": [
    {
     "name": "stdout",
     "output_type": "stream",
     "text": [
      "['uno', 'dos', 'tres', 'cuatro', 'cinco']\n",
      "[1, 2, 3, 4, 5]\n"
     ]
    }
   ],
   "source": [
    "print (list(midict.keys()))\n",
    "print (list(midict.values()))"
   ]
  },
  {
   "cell_type": "markdown",
   "metadata": {},
   "source": [
    "# Control de flujo e Iteradores"
   ]
  },
  {
   "cell_type": "markdown",
   "metadata": {},
   "source": [
    "* condiciones if\n",
    "* bucles while\n",
    "* iterables\n",
    "* bucles for (iteradores)\n",
    "* excepciones\n"
   ]
  },
  {
   "cell_type": "raw",
   "metadata": {},
   "source": [
    "if <condition> :\n",
    "    <if stament>\n",
    "elif <condition>:     # opcional\n",
    "    <elfi stament>\n",
    "else:                      # opcional\n",
    "    <else stament>\n"
   ]
  },
  {
   "cell_type": "code",
   "execution_count": 22,
   "metadata": {},
   "outputs": [
    {
     "name": "stdout",
     "output_type": "stream",
     "text": [
      "5 esta en la lista\n",
      "24 menor que 25\n"
     ]
    }
   ],
   "source": [
    "lista=[1,2,3,4,5,6,7]\n",
    "a=5\n",
    "if a in lista:\n",
    "   print(\"{} esta en la lista\".format(a))\n",
    "else:\n",
    "   print(\"{} no esta en la lista\".format(a))\n",
    "  \n",
    "var=24\n",
    "if var >25:\n",
    "   print(\"{} mayor que 25\".format(var))\n",
    "elif var<25:\n",
    "   print(\"{} menor que 25\".format(var))\n",
    "else:\n",
    "   print(\"{} es igual que 25\".format(var))"
   ]
  },
  {
   "cell_type": "raw",
   "metadata": {},
   "source": [
    "while <condition>:\n",
    "    <while stament>\n"
   ]
  },
  {
   "cell_type": "markdown",
   "metadata": {},
   "source": [
    "y…. \n",
    "Esto no da para más. veréis pocos bucles while en python"
   ]
  },
  {
   "cell_type": "code",
   "execution_count": 23,
   "metadata": {},
   "outputs": [
    {
     "name": "stdout",
     "output_type": "stream",
     "text": [
      "0\n",
      "1\n",
      "2\n",
      "3\n",
      "4\n",
      "5\n",
      "6\n",
      "7\n",
      "8\n",
      "9\n",
      "10\n",
      "11\n",
      "12\n",
      "13\n",
      "14\n",
      "15\n",
      "16\n",
      "17\n",
      "18\n",
      "19\n",
      "20\n",
      "21\n",
      "22\n",
      "23\n",
      "24\n",
      "25\n",
      "26\n",
      "27\n",
      "28\n",
      "29\n"
     ]
    }
   ],
   "source": [
    "var=0\n",
    "while  var<30:\n",
    "   print(var)\n",
    "   var+=1"
   ]
  },
  {
   "cell_type": "raw",
   "metadata": {},
   "source": [
    "while True:\n",
    "   pass\n",
    "# tipico bucle infinito\n",
    "# la palabra reservada pass permite completar el bloque sin que de error pero no hace nada\n"
   ]
  },
  {
   "cell_type": "markdown",
   "metadata": {},
   "source": [
    "Esto es porque nuestros datos son colecciones.\n",
    "\n",
    "Nos interesa recorrerlas … **iterar** colecciones.\n",
    "\n",
    "While no soporta esta característica de forma implícita.\n"
   ]
  },
  {
   "cell_type": "markdown",
   "metadata": {},
   "source": [
    "# Iteradores"
   ]
  },
  {
   "cell_type": "markdown",
   "metadata": {},
   "source": [
    "* Python tiene una abstracción llamada iterable\n",
    "* Permite recorrer colecciones obteniendo cada uno de sus valores\n",
    "* Es un objeto que puede ser tratado con una secuencia\n",
    "* Se usa de forma implícita en el bucle for\n",
    "* Podemos hacer que nuestros objetos sean iteradores\n"
   ]
  },
  {
   "cell_type": "code",
   "execution_count": 24,
   "metadata": {},
   "outputs": [
    {
     "name": "stdout",
     "output_type": "stream",
     "text": [
      "1\n",
      "2\n",
      "3\n",
      "4\n"
     ]
    },
    {
     "ename": "StopIteration",
     "evalue": "",
     "output_type": "error",
     "traceback": [
      "\u001b[1;31m---------------------------------------------------------------------------\u001b[0m",
      "\u001b[1;31mStopIteration\u001b[0m                             Traceback (most recent call last)",
      "\u001b[1;32m<ipython-input-24-6117826afec8>\u001b[0m in \u001b[0;36m<module>\u001b[1;34m\u001b[0m\n\u001b[0;32m      5\u001b[0m \u001b[0mprint\u001b[0m\u001b[1;33m(\u001b[0m\u001b[0mnext\u001b[0m\u001b[1;33m(\u001b[0m\u001b[0miterador\u001b[0m\u001b[1;33m)\u001b[0m\u001b[1;33m)\u001b[0m  \u001b[1;31m# 3\u001b[0m\u001b[1;33m\u001b[0m\u001b[1;33m\u001b[0m\u001b[0m\n\u001b[0;32m      6\u001b[0m \u001b[0mprint\u001b[0m\u001b[1;33m(\u001b[0m\u001b[0mnext\u001b[0m\u001b[1;33m(\u001b[0m\u001b[0miterador\u001b[0m\u001b[1;33m)\u001b[0m\u001b[1;33m)\u001b[0m  \u001b[1;31m# 4\u001b[0m\u001b[1;33m\u001b[0m\u001b[1;33m\u001b[0m\u001b[0m\n\u001b[1;32m----> 7\u001b[1;33m \u001b[0mprint\u001b[0m\u001b[1;33m(\u001b[0m\u001b[0mnext\u001b[0m\u001b[1;33m(\u001b[0m\u001b[0miterador\u001b[0m\u001b[1;33m)\u001b[0m\u001b[1;33m)\u001b[0m\u001b[1;33m\u001b[0m\u001b[1;33m\u001b[0m\u001b[0m\n\u001b[0m\u001b[0;32m      8\u001b[0m \u001b[1;33m\u001b[0m\u001b[0m\n\u001b[0;32m      9\u001b[0m \u001b[1;31m# Traceback (most recent call last):\u001b[0m\u001b[1;33m\u001b[0m\u001b[1;33m\u001b[0m\u001b[1;33m\u001b[0m\u001b[0m\n",
      "\u001b[1;31mStopIteration\u001b[0m: "
     ]
    }
   ],
   "source": [
    "a=[1,2,3,4]\n",
    "iterador=iter(a) # genera un objeto iterador sobre la lista\n",
    "print(next(iterador))  # next retorna valores 1\n",
    "print(next(iterador))  # 2\n",
    "print(next(iterador))  # 3\n",
    "print(next(iterador))  # 4\n",
    "print(next(iterador))\n",
    "\n",
    "# Traceback (most recent call last):\n",
    "#   File \"/root/PycharmProjects/paco/prueba.py\", line 7, in <module>\n",
    "#     print(next(iterador))\n",
    "# StopIteration\n",
    "\n",
    "print (list(iterador))  #para convertir un iterador en lista usamos list"
   ]
  },
  {
   "cell_type": "raw",
   "metadata": {},
   "source": [
    "for <var> in <colection>:\n",
    "do anything with <var>\n"
   ]
  },
  {
   "cell_type": "markdown",
   "metadata": {},
   "source": [
    "De forma interna genera un iterador\n",
    "\n",
    "Con next extrae cada elemento y lo asigna a la variable\n",
    "\n",
    "Hasta que se genere la excepción stopiteration \n"
   ]
  },
  {
   "cell_type": "code",
   "execution_count": 26,
   "metadata": {},
   "outputs": [
    {
     "name": "stdout",
     "output_type": "stream",
     "text": [
      "casa\n",
      "perro\n",
      "gato\n",
      "valor 1\n",
      "valor 2\n",
      "valor 3\n",
      "valor 4\n",
      "valor 5\n",
      "valor 6\n",
      "valor 7\n",
      "valor 8\n",
      "0\n",
      "1\n",
      "4\n",
      "9\n",
      "16\n",
      "25\n",
      "36\n",
      "49\n",
      "64\n",
      "81\n"
     ]
    }
   ],
   "source": [
    "lista=[1,2,3,4,5,6,7,8]\n",
    "\n",
    "for a in [\"casa\",\"perro\", \"gato\"]:\n",
    "   print(a)\n",
    "\n",
    "for x in lista:\n",
    "   print(\"valor {}\".format(x))\n",
    "\n",
    "for x in range(10): # range genera una lista de 0 a 99 para ser iterada\n",
    "   print(x*x)       # más efectivo usar xrange(100) es un generator"
   ]
  },
  {
   "cell_type": "raw",
   "metadata": {},
   "source": [
    "Los diccionarios contienen tres iteradores implícitos\n",
    "<dict>.keys()  o <dict>\n",
    "<dict>.values()\n",
    "<dict>.items()\n"
   ]
  },
  {
   "cell_type": "code",
   "execution_count": 27,
   "metadata": {},
   "outputs": [
    {
     "name": "stdout",
     "output_type": "stream",
     "text": [
      "1\n",
      "2\n",
      "3\n",
      "casa\n",
      "perro\n",
      "gato\n",
      "el 1 es casa\n",
      "el 2 es perro\n",
      "el 3 es gato\n"
     ]
    }
   ],
   "source": [
    "midict = {1: \"casa\", 2: \"perro\", 3: \"gato\"}\n",
    "\n",
    "for k in midict:  # recorre las claves\n",
    "   print(k)\n",
    "\n",
    "for v in midict.values():  # recorre los valores\n",
    "   print(v)\n",
    "\n",
    "for k, v in midict.items(): # recorre los pares clave, valor\n",
    "   print(\"el {} es {}\".format(k, v))"
   ]
  },
  {
   "cell_type": "markdown",
   "metadata": {},
   "source": [
    "# Excepciones"
   ]
  },
  {
   "cell_type": "markdown",
   "metadata": {},
   "source": [
    "* Las excepciones son objetos que nos permiten controlar posibles errores en bloques de código.\n",
    "* Podemos forzar excepciones:\n",
    "` raise <exception>(\"This is an error\") `"
   ]
  },
  {
   "cell_type": "code",
   "execution_count": 29,
   "metadata": {},
   "outputs": [
    {
     "name": "stdout",
     "output_type": "stream",
     "text": [
      "errror division by zero\n",
      "finalizado bloque\n"
     ]
    }
   ],
   "source": [
    "try:\n",
    "   a = 6 / 0\n",
    "   # bloque en el que queremos controlar errores\n",
    "\n",
    "except ZeroDivisionError as e:  # al menos una\n",
    "   print(\"errror {}\".format(e))\n",
    "\n",
    "except (TypeError, NameError):\n",
    "   pass  # podemos tratar un conjunto de excepciones\n",
    "\n",
    "else:  # es opcional. debe estar justo aquí.\n",
    "   print(\"perfecto!\")  # si no hay errores se ejecuta\n",
    "\n",
    "finally:  # finally se ejecutará siempre. opcional\n",
    "   print(\"finalizado bloque\")"
   ]
  },
  {
   "cell_type": "markdown",
   "metadata": {},
   "source": [
    "# Funciones"
   ]
  },
  {
   "cell_type": "markdown",
   "metadata": {},
   "source": [
    "* Las funciones son bloques de código:\n",
    "    - Llamable\n",
    "    - Admiten parámetros de entrada\n",
    "    - retornan datos procesados\n",
    "    - tienen su propio ámbito de variables\n",
    "\n",
    "* Dos reglas a tener en cuenta:\n",
    "    + Los parámetros son siempre referenciados\n",
    "    + Recuerda, todo son objetos… hasta las funciones\n",
    "\n"
   ]
  },
  {
   "cell_type": "code",
   "execution_count": 31,
   "metadata": {},
   "outputs": [
    {
     "name": "stdout",
     "output_type": "stream",
     "text": [
      "valor a:1 valor b.10\n",
      "valor a:10 valor b.10\n",
      "valor a:2 valor b.1\n",
      "20\n"
     ]
    }
   ],
   "source": [
    "x=1\n",
    "\n",
    "# definimos funcion1\n",
    "def funcion1(a,b):\n",
    "   print(\"valor a:{} valor b.{}\".format(a,b))\n",
    "   return a+b\n",
    "\n",
    "funcion1(x,10)   #funcion llamada\n",
    "d=funcion1(10,10)\n",
    "k=funcion1(b=1,a=2)\n",
    "print(d)\n"
   ]
  },
  {
   "cell_type": "markdown",
   "metadata": {},
   "source": [
    "* En cuanto al ámbito de las variable:\n",
    "    * Las variables que se definen en una función son locales\n",
    "    * Para modificar una variable de ámbito superior usamos global\n"
   ]
  },
  {
   "cell_type": "code",
   "execution_count": 3,
   "metadata": {},
   "outputs": [
    {
     "name": "stdout",
     "output_type": "stream",
     "text": [
      "10\n",
      "valor a:100 valor b.10\n",
      "la var x vale 90\n"
     ]
    }
   ],
   "source": [
    "x=10\n",
    "\n",
    "def funcion1(a,b):\n",
    "   global x # está haciendo referencia a la variable global\n",
    "   x=a-b\n",
    "   print(\"valor a:{} valor b.{}\".format(a,b))\n",
    "   return a+b\n",
    "\n",
    "print(x)\n",
    "funcion1(100,10)\n",
    "print(\"la var x vale {}\".format(x))"
   ]
  },
  {
   "cell_type": "markdown",
   "metadata": {},
   "source": [
    "* Podemos definir la función con parámetros por defecto\n",
    "    * Asignando un valor al parámetro en la definición\n",
    "    * Estos parámetros deben estar a la derecha\n",
    "    * Cuando es llamada, si NO usamos esos parámetros se asignarán los valores por defecto\n"
   ]
  },
  {
   "cell_type": "code",
   "execution_count": 4,
   "metadata": {},
   "outputs": [
    {
     "name": "stdout",
     "output_type": "stream",
     "text": [
      "8.333333333333334\n",
      "0.4\n",
      "1.2\n"
     ]
    }
   ],
   "source": [
    "def mifuncion(a,b=1,c=10):\n",
    "   return (a*b)/c\n",
    "\n",
    "print(mifuncion(10,10,12))\n",
    "\n",
    "a=mifuncion(4)\n",
    "print(a)\n",
    "\n",
    "b=mifuncion(1,12)\n",
    "print(b)\n"
   ]
  },
  {
   "cell_type": "markdown",
   "metadata": {},
   "source": [
    "Podemos definir funciones que tomen un número variable de argumentos posicionales."
   ]
  },
  {
   "cell_type": "code",
   "execution_count": 5,
   "metadata": {},
   "outputs": [
    {
     "name": "stdout",
     "output_type": "stream",
     "text": [
      "1\n",
      "2\n",
      "3\n",
      "------\n",
      "10\n",
      "11\n",
      "12\n"
     ]
    },
    {
     "data": {
      "text/plain": [
       "(10, 11, 12)"
      ]
     },
     "execution_count": 5,
     "metadata": {},
     "output_type": "execute_result"
    }
   ],
   "source": [
    "def otra_funcion(*args):\n",
    "   for x in args:\n",
    "       print(x)\n",
    "   return args\n",
    "\n",
    "arg=(10,11,12)\n",
    "\n",
    "otra_funcion(1,2,3)\n",
    "print(\"------\")\n",
    "otra_funcion(*arg)\n"
   ]
  },
  {
   "cell_type": "markdown",
   "metadata": {},
   "source": [
    "También funciones que sus argumentos sean claves de un diccionario:"
   ]
  },
  {
   "cell_type": "code",
   "execution_count": 6,
   "metadata": {},
   "outputs": [
    {
     "name": "stdout",
     "output_type": "stream",
     "text": [
      "argumento a: 1\n",
      "argumento b: True\n",
      "argumento h: 50\n",
      "argumento z: Hello, world!\n",
      "argumento a: 1\n",
      "argumento b: pepe\n",
      "argumento k: 0.2\n"
     ]
    },
    {
     "data": {
      "text/plain": [
       "{'a': 1, 'b': 'pepe', 'k': 0.2}"
      ]
     },
     "execution_count": 6,
     "metadata": {},
     "output_type": "execute_result"
    }
   ],
   "source": [
    "def otra_funcion(**kwargs):\n",
    "   for k,x in kwargs.items():\n",
    "       print(\"argumento {}: {}\".format(k,x))\n",
    "   return kwargs\n",
    "\n",
    "otra_funcion(a=1, b=True, h=50, z=\"Hello, world!\") # pasamos los parámetros identificados\n",
    "\n",
    "kwargs={\"a\":1,\"b\":\"pepe\",\"k\":0.2} #pasamos un diccionario cargado previamente\n",
    "otra_funcion(**kwargs)\n"
   ]
  },
  {
   "cell_type": "markdown",
   "metadata": {},
   "source": [
    "Las funciones pueden retornar cualquier valor o valores y de cualquier tipo. Esta característica  unido con la facilidad del paso de parámetros hace que los programas se simplifiquen mucho"
   ]
  },
  {
   "cell_type": "code",
   "execution_count": 7,
   "metadata": {},
   "outputs": [
    {
     "name": "stdout",
     "output_type": "stream",
     "text": [
      "20 10\n",
      "0 [3, 6, 9, 12, 15, 18, 21, 24, 27, 30, 33, 36] 39\n"
     ]
    }
   ],
   "source": [
    "def swap_var(x,y):\n",
    "   return y,x\n",
    "\n",
    "def mirango(x=100,y=1):\n",
    "   return list(range(0,x,y))\n",
    "\n",
    "x,y=swap_var(10,20)\n",
    "print(x,y)\n",
    "\n",
    "primero,*resto,ultimo=mirango(40,3)\n",
    "print(primero,resto,ultimo)"
   ]
  },
  {
   "cell_type": "markdown",
   "metadata": {},
   "source": [
    "Para terminar con funciones, os propongo un ejemplo en el que se usa un diccionario de funciones para una pequeña calculadora"
   ]
  },
  {
   "cell_type": "code",
   "execution_count": 8,
   "metadata": {},
   "outputs": [
    {
     "name": "stdout",
     "output_type": "stream",
     "text": [
      "5\n",
      "50\n"
     ]
    }
   ],
   "source": [
    "def suma(x,y):\n",
    "   return x+y\n",
    "def resta(x,y):\n",
    "   return x-y\n",
    "def multiplica(x,y):\n",
    "   return x*y\n",
    "\n",
    "oper={\"+\":suma,\"-\":resta,\"*\":multiplica}\n",
    "\n",
    "def operar(op):\n",
    "   global oper\n",
    "   a,op,b=op.split()\n",
    "   return oper[op](int(a),int(b))\n",
    "\n",
    "\n",
    "operacion=\"10 - 5\"\n",
    "print(operar(operacion))\n",
    "operacion=\"10 * 5\"\n",
    "print(operar(operacion))"
   ]
  },
  {
   "cell_type": "markdown",
   "metadata": {},
   "source": [
    "# Módulos .. Packages\n",
    "* La potencia de python se debe en gran medida a los módulos y packages\n",
    "* Un package es uno o más módulos (ficheros.py) que contienen:\n",
    "    * variables\n",
    "    * funciones\n",
    "    * clases\n",
    "* Incluimos nuevos módulos en nuestros proyectos usando import. ejem:\n",
    "\n",
    "    - import time\n",
    "    - import os\n",
    "\n",
    "* Hay un comando en el S.O. que permite descargar nuevos paquetes\n",
    "\n",
    "\n",
    "                        + pip3 search pil\n",
    "\n"
   ]
  },
  {
   "cell_type": "markdown",
   "metadata": {},
   "source": [
    "* Igual que en otros lenguajes,  python usa espacios de nombres para referenciar objetos dentro de cada paquete\n",
    "* Dependiendo cómo usemos la instrucción import, cambiará la forma de referenciar los contenidos.\n",
    "\n",
    "    import sound.effects.echo\n",
    "    \n",
    "    sound.effects.echo.echofilter(.....) \n",
    "\n",
    "    #importar submodule\n",
    "    \n",
    "    from sound.effects import echo\n",
    "    \n",
    "    echo.echofilter(....)\n",
    "\n",
    "    from sound.effects.echo import echofilter\n",
    "    \n",
    "    echofilter(....)\n",
    "\n",
    "    #podemos reducir el espacio de nombres\n",
    "    \n",
    "    import sound.effects.echo as s\n",
    "    \n",
    "    s.echofilter(.....) \n",
    "\n",
    "\n",
    "* Una forma de estructurar nuestros programas es hacer nuestros propios paquetes de código.\n",
    "* Un paquete es básicamente un directorio que contiene ficheros.py  (modulos) y otros directorios \n",
    "* Para que un paquete sea importable debe contener un fichero llamado \\__init\\__.py \n",
    "* \\__init\\__ No es necesario que contenga nada, tan sólo que exista\n"
   ]
  },
  {
   "cell_type": "markdown",
   "metadata": {},
   "source": [
    "# Clases\n",
    "* No vamos a hablar de programación orientada a objetos\n",
    "* Veamos cómo se definen clases y cómo se usan:\n",
    "  ~~~   \n",
    "        class <nombre>(<herencia>):\n",
    "            def metodo1(self,....):\n",
    "                ……\n",
    "            def metodo2(self,....):\n",
    "  ~~~ \n",
    "    \n",
    "* Aunque no es necesario en python 3.x es conveniente que las clases hereden de object\n",
    "* Los atributos podemos definirlos en cualquier sitio dentro de la clase:\n",
    "    * Al inicio sin self\n",
    "    * Dentro de los métodos con self\n",
    "\n"
   ]
  },
  {
   "cell_type": "code",
   "execution_count": 10,
   "metadata": {},
   "outputs": [
    {
     "name": "stdout",
     "output_type": "stream",
     "text": [
      "10\n",
      "un valor\n"
     ]
    }
   ],
   "source": [
    "class primera_clase(object):\n",
    "   atrib1=\"un valor\"         #esto son atributos de clase\n",
    "   atrib2=\"otro valor\"\n",
    "   def mas_valores(self):\n",
    "       self.atrib3=10\n",
    "\n",
    "a=primera_clase()\n",
    "a.mas_valores()\n",
    "\n",
    "print(a.atrib3)\n",
    "print(a.atrib1)\n"
   ]
  },
  {
   "cell_type": "markdown",
   "metadata": {},
   "source": [
    "En realidad una clase puede ser tan simple como en nombre de la clase"
   ]
  },
  {
   "cell_type": "code",
   "execution_count": null,
   "metadata": {},
   "outputs": [],
   "source": [
    "class nada:\n",
    "   pass\n"
   ]
  },
  {
   "cell_type": "markdown",
   "metadata": {},
   "source": [
    "* Las clases pueden tener un método constructor que se ejecuta cuando la clase es instanciada. \\__init\\__\n",
    "* Podemos crear destructores \\__del\\__ pero tienen menos uso puesto que se encarga el intérprete del borrado\n"
   ]
  },
  {
   "cell_type": "code",
   "execution_count": 1,
   "metadata": {},
   "outputs": [
    {
     "name": "stdout",
     "output_type": "stream",
     "text": [
      "30\n"
     ]
    }
   ],
   "source": [
    "class mi_clase(object):\n",
    "   __privado=\"un valor\"# un atributo privado debe empezar por __\n",
    "\n",
    "   def __init__(self,a,b):\n",
    "       self.op1=a\n",
    "       self.op2=b\n",
    "\n",
    "   def suma(self):\n",
    "       return self.op1+self.op2\n",
    "\n",
    "objeto=mi_clase(10,20)\n",
    "print(objeto.suma())  # la salida es 30"
   ]
  },
  {
   "cell_type": "markdown",
   "metadata": {},
   "source": [
    "* En python la herencia está soportada. \n",
    "* No obstante cuando heredamos debemos  llamar a al constructor de la clase heredada \n"
   ]
  },
  {
   "cell_type": "code",
   "execution_count": null,
   "metadata": {},
   "outputs": [],
   "source": [
    "class Clase_A(object):\n",
    "   def __init__(self,v):\n",
    "       print(\"Clase_A.init\")\n",
    "       self.v=v\n",
    "\n",
    "   def mimetodo(self):\n",
    "       print(\"el valor de v es {}\".format(self.v))\n",
    "\n",
    "class Clase_A1(Clase_A):\n",
    "   def __init__(self,v):\n",
    "       print(\"Clase_A1.init\")\n",
    "       super().__init__(v) # necesario para iniciar la clase a\n",
    "\n",
    "   def metodo2(self):\n",
    "       print(\"Clase_A1.metodo2()\")\n",
    "\n",
    "obj=Clase_A1(25)\n",
    "obj.mimetodo()\n"
   ]
  },
  {
   "cell_type": "markdown",
   "metadata": {},
   "source": [
    "* La herencia múltiple también está soportada. Aunque se puede complicar controlarla"
   ]
  },
  {
   "cell_type": "code",
   "execution_count": 2,
   "metadata": {},
   "outputs": [
    {
     "name": "stdout",
     "output_type": "stream",
     "text": [
      "Clase_X.init\n",
      "Clase_A1.init\n",
      "Clase_A2.init\n"
     ]
    }
   ],
   "source": [
    "class Clase_A1():\n",
    "   def __init__(self):\n",
    "       print(\"Clase_A1.init\")\n",
    "\n",
    "   def metodo2(self):\n",
    "       print(\"Clase_A1.metodo2()\")\n",
    "\n",
    "class Clase_A2():\n",
    "   def __init__(self):\n",
    "       print(\"Clase_A2.init\")\n",
    "\n",
    "   def metodo2(self):\n",
    "       print(\"Clase_A2.metodo2()\")\n",
    "\n",
    "\n",
    "class Clase_X(Clase_A1, Clase_A2):\n",
    "   def __init__(self):\n",
    "       print(\"Clase_X.init\")\n",
    "\n",
    "       Clase_A1.__init__(self)\n",
    "       Clase_A2.__init__(self)\n",
    "\n",
    "   def metodo1(self):\n",
    "       print(\"Clase_X.metodo1()\")\n",
    "\n",
    "\n",
    "objeto1 = Clase_X()\n"
   ]
  },
  {
   "cell_type": "markdown",
   "metadata": {},
   "source": [
    "* Hay una serie de métodos especiales en todas las clases denominados métodos mágicos\n",
    "* Modifican la clase base de python.\n",
    "* Permiten alterar el comportamiento de la clase\n",
    "* Ya hemos usado uno (\\__init\\__) \n",
    "* Estos métodos  empiezan y terminan por doble guión bajo  \\_\\_<método>\\_\\_\n"
   ]
  },
  {
   "cell_type": "code",
   "execution_count": null,
   "metadata": {},
   "outputs": [],
   "source": [
    "class forma(object):\n",
    "   def __init__(self,ancho,alto):\n",
    "       self.ancho=ancho\n",
    "       self.alto=alto\n",
    "\n",
    "   def __gt__(self,other):\n",
    "       return (self.ancho*self.alto) > (other.ancho*other.alto)\n",
    "\n",
    "   def __str__(self):\n",
    "       return \"La forma tiene {} de ancho por {} de largo\".format(self.ancho,self.alto)\n",
    "\n",
    "\n",
    "a=forma(10,20)\n",
    "b=forma(5,5)\n",
    "if a>b:\n",
    "   print(a)\n",
    "else:\n",
    "   print(b)"
   ]
  },
  {
   "cell_type": "markdown",
   "metadata": {},
   "source": [
    "# Para Mañana....\n",
    "## Python con salsa…..\n",
    "Hablaremos de cosas más avanzadas\n",
    "* Algo de programación funcional\n",
    "* Funciones lambda\n",
    "* Map, filter, zip,reduce\n",
    "* List comprehensions\n",
    "* Dict comprehensions\n",
    "* Properties\n",
    "* Iteradores\n",
    "* Generadores\n",
    "* Closures\n",
    "* Decoradores\n",
    "* Algo de metaprograming\n"
   ]
  },
  {
   "cell_type": "markdown",
   "metadata": {},
   "source": [
    "# **GRACIAS**"
   ]
  },
  {
   "cell_type": "code",
   "execution_count": null,
   "metadata": {},
   "outputs": [],
   "source": []
  }
 ],
 "metadata": {
  "kernelspec": {
   "display_name": "Python 3",
   "language": "python",
   "name": "python3"
  },
  "language_info": {
   "codemirror_mode": {
    "name": "ipython",
    "version": 3
   },
   "file_extension": ".py",
   "mimetype": "text/x-python",
   "name": "python",
   "nbconvert_exporter": "python",
   "pygments_lexer": "ipython3",
   "version": "3.7.1"
  }
 },
 "nbformat": 4,
 "nbformat_minor": 2
}

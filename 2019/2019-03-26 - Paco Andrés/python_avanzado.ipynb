{
 "cells": [
  {
   "cell_type": "markdown",
   "metadata": {
    "collapsed": true
   },
   "source": [
    "# CURSO DE PYTHON 3.7 AVANZADO\n"
   ]
  },
  {
   "cell_type": "markdown",
   "metadata": {},
   "source": [
    "## CONTENIDOS\n",
    "* Algo de programación funcional\n",
    "* Funciones lambda\n",
    "* Any, All, Map, filter, zip,reduce\n",
    "* List comprehensions\n",
    "* Dict comprehensions\n",
    "* Iteradores\n",
    "* Generadores\n",
    "* Clausuras y decoradores\n",
    "* Decoradores built-in\n",
    "* Algo de Metaprograming\n"
   ]
  },
  {
   "cell_type": "markdown",
   "metadata": {},
   "source": [
    "## Objetivos de la charla\n",
    "* Hablaremos de ciertas características de python, algunas propias del lenguaje que harán nuestros programas más simples, claros y rápidos. \n",
    "\n",
    "* Si no tienes conocimientos básicos de Python revisa la charla anterior y un montón de libros...\n",
    "\n",
    "\n",
    "* Esta charla puede ser en ciertos momentos intensa.\n",
    "Si lo consideráis necesario pararemos para enfriar la cpu y tomarnos un café.\n"
   ]
  },
  {
   "cell_type": "markdown",
   "metadata": {},
   "source": [
    "## Programación Funcional\n",
    "* Es un paradigma que enfatiza la utilización de funciones puras (matemáticas)\n",
    "* Funciones que no tengan efectos secundarios \n",
    "* Funciones que no manejen datos mutables o de estado\n",
    "* Lo contrario de la programación imperativa\n",
    "* Ventajas:\n",
    "    * Los programas son fáciles de testear \n",
    "    * Mejoran la programación concurrente y paralela\n",
    "    * Python optimiza el rendimiento en algoritmos que usan colecciones.\n",
    "* Veremos sólo algunas características de programación funcional. Este tema da para muchas charlas…..\n"
   ]
  },
  {
   "cell_type": "markdown",
   "metadata": {},
   "source": [
    "## Funciones Lambda\n",
    "* Una función lambda o función anónima es una función que se puede definir en una línea\n",
    "\n",
    "```\n",
    "variable = lambda parametro1, parametro2, parametro9=<defvalue>: instrucción retornada\n",
    "```\n",
    "\n",
    " *  Ventaja:  podemos usarla directamente sin tener que asignarla o definirla previamente"
   ]
  },
  {
   "cell_type": "code",
   "execution_count": null,
   "metadata": {},
   "outputs": [],
   "source": [
    "cuadrado = lambda x: x*x #Calcula el cuadrado de un numero\n",
    "lista = [1,2,3,5,8,13]\n",
    "for elemento in lista:\n",
    "    print(cuadrado(elemento))"
   ]
  },
  {
   "cell_type": "code",
   "execution_count": null,
   "metadata": {},
   "outputs": [],
   "source": [
    "#Calcular el area de un triangulo\n",
    "area_triangulo = lambda b,h: b*h/2\n",
    "medidas = [(34, 8), (26, 8), (44, 18)]\n",
    "for datos in medidas:\n",
    " base = datos[0]\n",
    " altura = datos[1]\n",
    " print(area_triangulo(base, altura))"
   ]
  },
  {
   "cell_type": "code",
   "execution_count": null,
   "metadata": {},
   "outputs": [],
   "source": [
    "#Calcular el factorial de un numero\n",
    "fact = lambda x: 1 if x == 0 else x * fact(x-1)\n",
    "print(fact(5))"
   ]
  },
  {
   "cell_type": "markdown",
   "metadata": {},
   "source": [
    ">¿Os acordáis de la calculadora de la charla anterior?\n",
    "Ahora usando programación funcional. En este caso Lambdas\n",
    "En 10 transparencias más esto se puede simplificar\n",
    "\n",
    ">Es normal no entenderlo a la primera. Tranquilidad hay más ejemplos\n"
   ]
  },
  {
   "cell_type": "code",
   "execution_count": null,
   "metadata": {},
   "outputs": [],
   "source": [
    "#Calculadora con funciones lambda\n",
    "calcular={\"+\":lambda x,y:x+y,\"-\":lambda x,y:x-y,\"/\":lambda x,y:x/y,\"*\":lambda x,y:x*y,\"E\":lambda x=0,y=0:\"ERROR\"}\n",
    "operandos=lambda cad:cad.split(\" \") if len(cad.split(\" \"))==3 and cad.split(\" \")[1] in [\"+\",\"-\",\"*\",\"/\"] else (\"0\",\"E\",\"0\")\n",
    "calculadora = lambda op1,op,op2:calcular[op](int(op1),int(op2))\n",
    "print(calculadora(*operandos(\"20 + 10\"))) # retorna 30\n",
    "print(calculadora(*operandos(\"20 * 10\"))) # retorna 200\n",
    "\n",
    "#Usar eval en lugar de esto\n",
    "print(eval(\"12-8\"))"
   ]
  },
  {
   "cell_type": "markdown",
   "metadata": {},
   "source": [
    "## Programación funcional. any,all,map, filter, reduce, zip \n",
    "* Son funciones de orden superior. \n",
    "* Las usamos cuando tenemos que hacer operaciones sobre listas, tuplas …\n",
    "* Iteran colecciones, evitamos bucles\n",
    "* La mayoría son built-ins, palabras reservadas en Python.\n",
    "* Están optimizadas para aumentar el rendimiento \n",
    "* Pueden usar directamente funciones lambda\n",
    "* La salida natural de estas funciones es un iterador\n",
    "* Simplificamos y agilizamos nuestros códigos\n"
   ]
  },
  {
   "cell_type": "markdown",
   "metadata": {},
   "source": [
    "### Any\n",
    "Any retorna True si algún elemento del iterable es verdadero. Si es vacío retorna False. Es una secuencia de OR consecutiva. Un valor True, para la iteración\n"
   ]
  },
  {
   "cell_type": "code",
   "execution_count": null,
   "metadata": {},
   "outputs": [],
   "source": [
    "print(any([0,1,2,3]))\n",
    "print(any([0, False, \"\", {}, []]))\n",
    "print(any([]))\n",
    "print(any(\"hola mundo\")) #Siempre retorna true"
   ]
  },
  {
   "cell_type": "markdown",
   "metadata": {},
   "source": [
    "### All\n",
    ">All retorna True si todos los elementos son verdadero. Si el iterable es vacio retorna True. Es una secuencia de AND consecutiva. Un valor False, para la iteración"
   ]
  },
  {
   "cell_type": "code",
   "execution_count": null,
   "metadata": {},
   "outputs": [],
   "source": [
    "l = [1, 3, 4, 5]\n",
    "print(all(l)) # True\n",
    "l = [0, False]\n",
    "print(all(l)) # False\n",
    "l = [1, 3, 4, 0]\n",
    "print(all(l)) # False\n",
    "l = [0, False, 5]\n",
    "print(all(l)) # False\n",
    "l = []\n",
    "print(all(l)) #True"
   ]
  },
  {
   "cell_type": "markdown",
   "metadata": {},
   "source": [
    "### Map \n",
    "Aplica una función a una lista de datos y devuelve un iterador con los resultados. También se puede usar una función lambda."
   ]
  },
  {
   "cell_type": "code",
   "execution_count": 1,
   "metadata": {},
   "outputs": [
    {
     "name": "stdout",
     "output_type": "stream",
     "text": [
      "[3.141592653589793, 12.566370614359172, 28.274333882308138, 201.06192982974676, 254.46900494077323]\n"
     ]
    }
   ],
   "source": [
    "import math\n",
    "def area_circulo(radio):\n",
    "    return math.pi * radio ** 2\n",
    "radios = [1, 2, 3,8,9]\n",
    "# Devuelve iterador que es convertido a lista\n",
    "areas = list(map(area_circulo, radios)) # El segundo parametro es la lista sobre la que se ejecuta\n",
    "print(areas)"
   ]
  },
  {
   "cell_type": "code",
   "execution_count": 3,
   "metadata": {},
   "outputs": [
    {
     "name": "stdout",
     "output_type": "stream",
     "text": [
      "0.0\n",
      "3.141592653589793\n",
      "12.566370614359172\n",
      "28.274333882308138\n",
      "50.26548245743669\n",
      "78.53981633974483\n",
      "113.09733552923255\n",
      "153.93804002589985\n",
      "201.06192982974676\n",
      "254.46900494077323\n",
      "314.1592653589793\n",
      "380.132711084365\n",
      "452.3893421169302\n",
      "530.929158456675\n",
      "615.7521601035994\n",
      "706.8583470577034\n",
      "804.247719318987\n",
      "907.9202768874502\n",
      "1017.8760197630929\n",
      "1134.1149479459152\n"
     ]
    }
   ],
   "source": [
    "import math\n",
    "radios = list(range(20))\n",
    "for areas in map(lambda r:math.pi*r**2, radios):\n",
    " print(areas)"
   ]
  },
  {
   "cell_type": "markdown",
   "metadata": {},
   "source": [
    "Si la función tiene varias entradas, podemos aportar varias listas para los datos"
   ]
  },
  {
   "cell_type": "code",
   "execution_count": 4,
   "metadata": {},
   "outputs": [
    {
     "name": "stdout",
     "output_type": "stream",
     "text": [
      "1.0\n",
      "1.0\n",
      "4.0\n",
      "27.0\n",
      "256.0\n",
      "3125.0\n",
      "46656.0\n",
      "823543.0\n",
      "16777216.0\n",
      "387420489.0\n"
     ]
    }
   ],
   "source": [
    "#Se puede usar sobre varias entradas con listas diferente\n",
    "import math\n",
    "numeros = list(range(10))\n",
    "potencias = list(range(10))\n",
    "for val in map(lambda x,y:math.pow(x,y),numeros,potencias):\n",
    " print(val)"
   ]
  },
  {
   "cell_type": "markdown",
   "metadata": {},
   "source": [
    "## REDUCE\n",
    "Convierte una lista en un único valor aplicando una función reductora\n"
   ]
  },
  {
   "cell_type": "code",
   "execution_count": 6,
   "metadata": {},
   "outputs": [
    {
     "name": "stdout",
     "output_type": "stream",
     "text": [
      "4950\n"
     ]
    }
   ],
   "source": [
    "import math\n",
    "from functools import reduce\n",
    "#en python3 reduce se encuentra en modulo functools\n",
    "items= list(range(100))\n",
    "#Suma todos los elementos de la lista\n",
    "suma = reduce(lambda x, y: x + y, items)\n",
    "print(suma)"
   ]
  },
  {
   "cell_type": "markdown",
   "metadata": {},
   "source": [
    "¿Qué hace esta reductora?"
   ]
  },
  {
   "cell_type": "code",
   "execution_count": null,
   "metadata": {},
   "outputs": [],
   "source": [
    "from functools import reduce\n",
    "items= [100,20,104,30,203,200]\n",
    "print(reduce(lambda a, b: a if a>b else b, items))"
   ]
  },
  {
   "cell_type": "markdown",
   "metadata": {},
   "source": [
    "## FILTER\n",
    "* Aplica una función booleana para poder extraer datos que cumplen la condición.\n",
    "* La función lambda debe retornar una salida booleana\n"
   ]
  },
  {
   "cell_type": "code",
   "execution_count": null,
   "metadata": {},
   "outputs": [],
   "source": [
    "#Obtiene los números pares en ese rango\n",
    "items=range(10)\n",
    "for x in filter(lambda x: x % 2 == 0, items):\n",
    " print(x)"
   ]
  },
  {
   "cell_type": "code",
   "execution_count": null,
   "metadata": {},
   "outputs": [],
   "source": [
    "#Obtiene los días que tienen más de 6 letras\n",
    "lista = [\"lunes\",\"martes\",\"miércoles\",\"jueves\",\"viernes\",\"sábado\",\"domingo\"]\n",
    "for x in filter(lambda x: len(x)>6,lista):\n",
    " print(x)"
   ]
  },
  {
   "cell_type": "markdown",
   "metadata": {},
   "source": [
    "## ZIP reorganiza listas\n",
    "Toma los elementos de todas las listas y genera una tupla iterable formada por los n-esimos elementos de cada una \n"
   ]
  },
  {
   "cell_type": "code",
   "execution_count": null,
   "metadata": {},
   "outputs": [],
   "source": [
    "#Contar la frecuencia de aparicion de las palabras\n",
    "def frec_palabras(cadena):\n",
    "    frecuenciaPalab = []\n",
    "    for p in cadena.split(\" \"):\n",
    "        frecuenciaPalab.append(cadena.count(p))\n",
    "    return dict(zip(cadena.split(\" \"),frecuenciaPalab))\n",
    "frec=frec_palabras(\"python para todos esto es una prueba es una prueba\")\n",
    "print(frec)"
   ]
  },
  {
   "cell_type": "code",
   "execution_count": null,
   "metadata": {},
   "outputs": [],
   "source": [
    "#Obtiene la traspuesta de una matriz\n",
    "def traspuesta(m):\n",
    "    return list(zip(*m)) # el operador * desempaqueta una lista\n",
    "matriz = [[1, 2, 3, 4],\n",
    " [5, 6, 7, 8],\n",
    " [9, 10, 11, 12]]\n",
    "print(traspuesta(matriz))\n"
   ]
  },
  {
   "cell_type": "markdown",
   "metadata": {},
   "source": [
    "## List comprehensions\n",
    "* Es una herramienta que permite definir listas expresando de forma funcional los elementos que debe contener.\n",
    "* Aumentamos el rendimiento ya que el intérprete implementa estas instrucciones directamente en C.\n"
   ]
  },
  {
   "cell_type": "code",
   "execution_count": null,
   "metadata": {},
   "outputs": [],
   "source": [
    "# Potencias de 2\n",
    "d=[2**x for x in range(10)]\n",
    "print(d)"
   ]
  },
  {
   "cell_type": "markdown",
   "metadata": {},
   "source": [
    "* Es una forma elegante, limpia y efectiva para definir listas\n",
    "* ¡ Nuestra mente no está preparada para esto ! \n",
    "* Somos imperativos. A veces se convierte en un vicio\n"
   ]
  },
  {
   "cell_type": "code",
   "execution_count": null,
   "metadata": {},
   "outputs": [],
   "source": [
    "# Obtener una lista donde la primera letra sea la p y la ultima la o\n",
    "lista=[\"paco\",\"pedro\",\"juan\", \"antonio\",\"manolo\"]\n",
    "lista_po=[x for x in lista if x[-1]==\"o\" and x[0]==\"p\"]\n",
    "print(lista_po)"
   ]
  },
  {
   "cell_type": "markdown",
   "metadata": {},
   "source": [
    "Cuando queremos crear una lista que depende de dos variables, necesitamos más de un bucle o más de una condición "
   ]
  },
  {
   "cell_type": "code",
   "execution_count": 7,
   "metadata": {},
   "outputs": [
    {
     "name": "stdout",
     "output_type": "stream",
     "text": [
      "matriz origen\n",
      "[[1, 2, 4], [0, 3, 1], [5, 2, 7]]\n",
      "matriz traspuesta\n",
      "[[1, 0, 5], [2, 3, 2], [4, 1, 7]]\n",
      "matriz en una lista\n",
      "[1, 2, 4, 0, 3, 1, 5, 2, 7]\n",
      "diagonal principal\n",
      "[1, 3, 7]\n"
     ]
    }
   ],
   "source": [
    "#De nuevo, la traspuesta de una matriz dada\n",
    "matrix = [[1, 2, 4],\n",
    " [0, 3, 1],\n",
    " [5, 2, 7]]\n",
    "matrix_traspuesta = [[row[i] for row in matrix] for i in range(3)]\n",
    "lista_mat = [x for a in matrix for x in a]\n",
    "diagonal = [columna for f, fila in enumerate(matrix) for c, columna in enumerate(fila) if f == c]\n",
    "print(\"matriz origen\")\n",
    "print(matrix)\n",
    "print(\"matriz traspuesta\")\n",
    "print(matrix_traspuesta)\n",
    "print(\"matriz en una lista\")\n",
    "print(lista_mat)\n",
    "print(\"diagonal principal\")\n",
    "print(diagonal)"
   ]
  },
  {
   "cell_type": "markdown",
   "metadata": {},
   "source": [
    "### Dict comprehensions \n",
    "También podemos formar diccionarios con la misma técnica que hemos usado con las listas"
   ]
  },
  {
   "cell_type": "code",
   "execution_count": null,
   "metadata": {},
   "outputs": [],
   "source": [
    "personas = [\"paco\", \"pepe\",\"juan\",\"manolo\"]\n",
    "edades = [10,30,25,56]\n",
    "personas_ed ={k:v for k,v in zip(personas,edades)}\n",
    "print(personas_ed)"
   ]
  },
  {
   "cell_type": "markdown",
   "metadata": {},
   "source": [
    "¿Qué contiene este diccionario?\n"
   ]
  },
  {
   "cell_type": "code",
   "execution_count": 8,
   "metadata": {},
   "outputs": [
    {
     "name": "stdout",
     "output_type": "stream",
     "text": [
      "{(0, 0): 0, (0, 1): 0, (0, 2): 0, (0, 3): 0, (0, 4): 0, (0, 5): 0, (0, 6): 0, (0, 7): 0, (0, 8): 0, (0, 9): 0, (1, 0): 0, (1, 1): 1, (1, 2): 2, (1, 3): 3, (1, 4): 4, (1, 5): 5, (1, 6): 6, (1, 7): 7, (1, 8): 8, (1, 9): 9, (2, 0): 0, (2, 1): 2, (2, 2): 4, (2, 3): 6, (2, 4): 8, (2, 5): 10, (2, 6): 12, (2, 7): 14, (2, 8): 16, (2, 9): 18, (3, 0): 0, (3, 1): 3, (3, 2): 6, (3, 3): 9, (3, 4): 12, (3, 5): 15, (3, 6): 18, (3, 7): 21, (3, 8): 24, (3, 9): 27, (4, 0): 0, (4, 1): 4, (4, 2): 8, (4, 3): 12, (4, 4): 16, (4, 5): 20, (4, 6): 24, (4, 7): 28, (4, 8): 32, (4, 9): 36, (5, 0): 0, (5, 1): 5, (5, 2): 10, (5, 3): 15, (5, 4): 20, (5, 5): 25, (5, 6): 30, (5, 7): 35, (5, 8): 40, (5, 9): 45, (6, 0): 0, (6, 1): 6, (6, 2): 12, (6, 3): 18, (6, 4): 24, (6, 5): 30, (6, 6): 36, (6, 7): 42, (6, 8): 48, (6, 9): 54, (7, 0): 0, (7, 1): 7, (7, 2): 14, (7, 3): 21, (7, 4): 28, (7, 5): 35, (7, 6): 42, (7, 7): 49, (7, 8): 56, (7, 9): 63, (8, 0): 0, (8, 1): 8, (8, 2): 16, (8, 3): 24, (8, 4): 32, (8, 5): 40, (8, 6): 48, (8, 7): 56, (8, 8): 64, (8, 9): 72, (9, 0): 0, (9, 1): 9, (9, 2): 18, (9, 3): 27, (9, 4): 36, (9, 5): 45, (9, 6): 54, (9, 7): 63, (9, 8): 72, (9, 9): 81}\n"
     ]
    }
   ],
   "source": [
    "diccionario={(k, v): k*v for k in range(10) for v in range(10)}\n",
    "print(diccionario)"
   ]
  },
  {
   "cell_type": "markdown",
   "metadata": {},
   "source": [
    "# Iteradores\n",
    "* Ya sabemos que los iteradores nos permiten recorrer colecciones de datos. Implícito para los bucles for. \n",
    "* Nuestras clases pueden tener la capacidad de iteración \n",
    "* Para ello debemos sobrecargar los métodos \\_\\_iter\\_\\_ y \\_\\_next\\_\\_\n"
   ]
  },
  {
   "cell_type": "code",
   "execution_count": 9,
   "metadata": {},
   "outputs": [],
   "source": [
    "#Clase Potencia de 2\n",
    "class Potencia2:\n",
    "    \"\"\"esta clase itera potencias de dos hasta un max\"\"\"\n",
    "    def __init__(self, max = 0):\n",
    "        \"\"\"constructor de la clase\"\"\"\n",
    "        self.max = max\n",
    "    def __iter__(self):\n",
    "        \"\"\"inicializa el iterador\"\"\"\n",
    "        self.n = 0\n",
    "        return self\n",
    "    def __next__(self):\n",
    "        \"\"\"retorna valores iterados hasta max \"\"\"\n",
    "        if self.n <= self.max:\n",
    "            result = 2 ** self.n\n",
    "            self.n += 1\n",
    "            return result\n",
    "        else:\n",
    "            raise StopIteration # esta excepción para la iteración"
   ]
  },
  {
   "cell_type": "code",
   "execution_count": 10,
   "metadata": {},
   "outputs": [
    {
     "name": "stdout",
     "output_type": "stream",
     "text": [
      "potencia 1\n",
      "potencia 2\n",
      "potencia 4\n",
      "potencia 8\n",
      "potencia 16\n",
      "potencia 32\n",
      "potencia 64\n",
      "potencia 128\n",
      "potencia 256\n",
      "potencia 512\n",
      "1\n",
      "2\n",
      "4\n",
      "8\n",
      "16\n",
      "32\n",
      "64\n",
      "128\n",
      "256\n",
      "512\n",
      "1024\n",
      "2048\n",
      "4096\n",
      "8192\n",
      "16384\n",
      "32768\n",
      "65536\n",
      "131072\n",
      "262144\n",
      "524288\n",
      "1048576\n"
     ]
    }
   ],
   "source": [
    "pot=iter(Potencia2(100)) # Un iterador\n",
    "for x in range(10):\n",
    "    print(\"potencia {}\".format(next(pot)))\n",
    "\n",
    "for i in Potencia2(20):\n",
    "    print(i)"
   ]
  },
  {
   "cell_type": "markdown",
   "metadata": {},
   "source": [
    "* Un generador es una  forma más simple de hacer iteradores\n",
    "* Es una función que contiene la palabra reservada yield (return)\n",
    "* La función retorna una nueva iteración por cada paso por yield\n",
    "* En términos de memoria es muy eficiente\n",
    "* La función retorna un objeto generator que es iterable"
   ]
  },
  {
   "cell_type": "code",
   "execution_count": null,
   "metadata": {},
   "outputs": [],
   "source": [
    "def fibonacci():\n",
    "    \"\"\" generador fibbonacci infinito\"\"\"\n",
    "    x, y = 0, 1\n",
    "    while True:\n",
    "        yield x\n",
    "    x, y = y, x + y\n",
    "    \n",
    "def fibonacci_n(max):\n",
    "    \"\"\" generador fibbonacci con limite\"\"\"\n",
    "    x, y = 0, 1\n",
    "    _max=0\n",
    "    while _max<max:\n",
    "        yield x\n",
    "        _max+=1\n",
    "        x, y = y, x + y\n",
    "\n",
    "for i in fibonacci_n(100):\n",
    "    print(i)"
   ]
  },
  {
   "cell_type": "markdown",
   "metadata": {},
   "source": [
    "* Nos permite integrar perfectamente nuestros código con el propio lenguaje, ya que son iterables\n",
    "* Supongamos un acceso a un  sensor que nos devuelve temperaturas. \n",
    "* No vamos a hacer un acceso intensivo \n",
    "* La función se mantiene en memoria hasta que llegue la excepción stopiteration\n"
   ]
  },
  {
   "cell_type": "code",
   "execution_count": 11,
   "metadata": {},
   "outputs": [
    {
     "name": "stdout",
     "output_type": "stream",
     "text": [
      "[0.43, 39.59, 13.98, 14.09, 37.51, 32.54]\n",
      ":::::::::::\n",
      "7.68\n",
      "19.47\n",
      "__\n",
      "12.04\n",
      "19.53\n",
      "19.29\n",
      "33.35\n",
      "-9.12\n"
     ]
    }
   ],
   "source": [
    "import time\n",
    "import random\n",
    "\n",
    "def get_sensor(max=100):\n",
    "   \"\"\" generador simulador de acceso a un sensor\"\"\"\n",
    "   _max=0\n",
    "   while _max<max:\n",
    "       try:\n",
    "           x=random.uniform(-10,40)\n",
    "           time.sleep(0.001)\n",
    "           yield round(x,2)\n",
    "           _max+=1\n",
    "       except:\n",
    "           raise StopIteration(\"error de lectura\")\n",
    "\n",
    "lista=list(get_sensor(6)) #convertir el iterable en lista\n",
    "print (lista)\n",
    "print(\":::::::::::\")\n",
    "it=iter(get_sensor(10))  #iterado con next()\n",
    "print(next(it))\n",
    "print(next(it))\n",
    "print(\"__\")\n",
    "for i in get_sensor(5):  #iteración sobre el generador\n",
    "   print(i)"
   ]
  },
  {
   "cell_type": "markdown",
   "metadata": {},
   "source": [
    "Otra forma de definirlos es usando programación funcional\n",
    "En vez de usar [ ] usamos ( )\n"
   ]
  },
  {
   "cell_type": "code",
   "execution_count": 13,
   "metadata": {},
   "outputs": [
    {
     "name": "stdout",
     "output_type": "stream",
     "text": [
      "<class 'generator'>\n",
      "0\n",
      "2\n",
      "4\n",
      "6\n",
      "8\n",
      "10\n",
      "12\n",
      "14\n",
      "16\n",
      "18\n",
      "20\n",
      "22\n",
      "24\n",
      "26\n",
      "28\n",
      "30\n",
      "32\n",
      "34\n",
      "36\n",
      "38\n",
      "40\n",
      "42\n",
      "44\n",
      "46\n",
      "48\n",
      "50\n",
      "52\n",
      "54\n",
      "56\n",
      "58\n",
      "60\n",
      "62\n",
      "64\n",
      "66\n",
      "68\n",
      "70\n",
      "72\n",
      "74\n",
      "76\n",
      "78\n",
      "80\n",
      "82\n",
      "84\n",
      "86\n",
      "88\n",
      "90\n",
      "92\n",
      "94\n",
      "96\n",
      "98\n"
     ]
    }
   ],
   "source": [
    "#Un generador utilizando programación funcional. \n",
    "pares = (x for x in range(100) if x%2==0)\n",
    "print(type(pares))\n",
    "print(next(pares))\n",
    "print(next(pares))\n",
    "for i in pares:\n",
    "    print(i)"
   ]
  },
  {
   "cell_type": "markdown",
   "metadata": {},
   "source": [
    "# Closures y decoradores"
   ]
  },
  {
   "cell_type": "markdown",
   "metadata": {},
   "source": [
    "## Closures\n",
    "* Una función puede tener funciones anidadas y por tanto el espacio de nombres de la función anidada es el local y el de su función padre.\n",
    "* Si una función anidada quieres modificar una variable superior usa la palabra reservada nonlocal\n"
   ]
  },
  {
   "cell_type": "code",
   "execution_count": null,
   "metadata": {},
   "outputs": [],
   "source": [
    "def funcion():\n",
    "   y=1\n",
    "   def interna():\n",
    "       var_int=25\n",
    "       print(\"var_int:{}\".format(var_int))\n",
    "   interna()\n",
    "   print(\"var y:{}\".format(y))\n",
    "\n",
    "funcion()\n"
   ]
  },
  {
   "cell_type": "code",
   "execution_count": null,
   "metadata": {},
   "outputs": [],
   "source": [
    "def funcion():\n",
    "   y=1\n",
    "   def interna():\n",
    "       nonlocal y\n",
    "       var_int=25\n",
    "       y=y+var_int\n",
    "       print(\"var_int:{}\".format(var_int))\n",
    "   interna()\n",
    "   print(\"var y:{}\".format(y))\n",
    "\n",
    "funcion()\n"
   ]
  },
  {
   "cell_type": "markdown",
   "metadata": {},
   "source": [
    "* Un o una CLOSURE (clausura) es una función que retorna su función interna anidada.\n",
    "* La característica principal : \n",
    "    * Recuerda sus espacios de nombres local y superior\n",
    "* Precursor de un constructor.  Base programación funcional\n"
   ]
  },
  {
   "cell_type": "code",
   "execution_count": null,
   "metadata": {},
   "outputs": [],
   "source": [
    "def contador(x):\n",
    "    contador=x\n",
    "    def interna():\n",
    "        nonlocal contador\n",
    "        contador+=1\n",
    "        print(\"X: {}\".format(x))\n",
    "        print(\"contador: {}\".format(contador))\n",
    "    return interna\n",
    "c1=contador(10)\n",
    "c2=contador(20)\n",
    "c1()\n",
    "c2()\n",
    "c2()\n",
    "c1()"
   ]
  },
  {
   "cell_type": "markdown",
   "metadata": {},
   "source": [
    "Caso práctico:\n",
    "* Cálculo de iva. Por supuesto esto se puede hacer con otro parámetro.\n",
    "* Esta forma es funcionalmente pura\n"
   ]
  },
  {
   "cell_type": "code",
   "execution_count": null,
   "metadata": {},
   "outputs": [],
   "source": [
    "# Un caso práctico es el cálculo del iva\n",
    "def calcular_iva(base_iva):\n",
    "    def estimar_neto(importe_bruto):\n",
    "        return importe_bruto + (importe_bruto * base_iva / 100)\n",
    "    return estimar_neto\n",
    "\n",
    "# Productos gravados con el 21%\n",
    "get_neto_base_21 = calcular_iva(21)\n",
    "ordenador = get_neto_base_21(500)\n",
    "zapatos = get_neto_base_21(87)\n",
    "cine = get_neto_base_21(6)\n",
    "# Productos gravados con el 10.5%\n",
    "get_neto_base_105 = calcular_iva(10.5)\n",
    "carne = get_neto_base_105(10)\n",
    "huevos = get_neto_base_105(2)\n",
    "print(huevos)\n",
    "print(ordenador)"
   ]
  },
  {
   "cell_type": "markdown",
   "metadata": {},
   "source": [
    "## Decoradores\n",
    ">Un decorador es un Closure que toma como parámetro o argumento una función y retorna una función de reemplazo\n",
    "En este caso la variable decora nos retorna la versión decorada de mi_funcion()\n"
   ]
  },
  {
   "cell_type": "code",
   "execution_count": 14,
   "metadata": {},
   "outputs": [
    {
     "name": "stdout",
     "output_type": "stream",
     "text": [
      "esto es antes de la funcion 1\n"
     ]
    },
    {
     "data": {
      "text/plain": [
       "1"
      ]
     },
     "execution_count": 14,
     "metadata": {},
     "output_type": "execute_result"
    }
   ],
   "source": [
    "def decorador(fun):\n",
    "    def interna():\n",
    "        print(\"esto es antes de la funcion\",fun)\n",
    "        return fun\n",
    "    return interna\n",
    "def mi_funcion():\n",
    "    return 1\n",
    "decora =decorador(mi_funcion())\n",
    "decora()"
   ]
  },
  {
   "cell_type": "markdown",
   "metadata": {},
   "source": [
    "Python como otros lenguajes tiene _azúcar sintáctico_, en este caso a través del **símbolo _@_** facilita la aplicación de decoradores a nuestros códigos"
   ]
  },
  {
   "cell_type": "code",
   "execution_count": null,
   "metadata": {},
   "outputs": [],
   "source": [
    "def decorador(fun):\n",
    "    def interna():\n",
    "        print(\"antes de la funcion\")\n",
    "        return fun\n",
    "    return interna\n",
    "\n",
    "@decorador\n",
    "def mi_funcion():\n",
    "    return 1\n",
    "print(mi_funcion())"
   ]
  },
  {
   "cell_type": "code",
   "execution_count": null,
   "metadata": {},
   "outputs": [],
   "source": [
    "def decorador(funcion):\n",
    "    def funcion_envoltura():\n",
    "        print(\"antes de la funcion\")\n",
    "        funcion()\n",
    "        print(\"despues de la funcion\")\n",
    "    return funcion_envoltura\n",
    "\n",
    "@decorador\n",
    "def mi_funcion():\n",
    "    return 1\n",
    "print(mi_funcion())"
   ]
  },
  {
   "cell_type": "markdown",
   "metadata": {},
   "source": [
    ">Un caso práctico de ejemplo\n",
    "Un decorador para todas nuestra funciones que nos permita hacer logger de nuestros parámetro en cada llamada\n"
   ]
  },
  {
   "cell_type": "code",
   "execution_count": 15,
   "metadata": {},
   "outputs": [
    {
     "name": "stdout",
     "output_type": "stream",
     "text": [
      "procesar_l :LLamada con argumentos : (<function <lambda> at 0x7fe5487580d0>, [1, 2, 3, 4, 5, 6]),{}\n",
      "['0b1', '0b10', '0b11', '0b100', '0b101', '0b110']\n"
     ]
    }
   ],
   "source": [
    "# Un caso práctico es hacer logging de los métodos\n",
    "\n",
    "def log(func):\n",
    "    def interna(*args, **kwargs):\n",
    "        print(\"{} :LLamada con argumentos : {},{}\".format(func.__name__,args, kwargs))\n",
    "        return func(*args, **kwargs)\n",
    "    return interna\n",
    "\n",
    "@log\n",
    "def fun_producto(x,y=10,z=1):\n",
    "    print (\"Producto:{}\".format(x*y*z))\n",
    "    return x*y*z\n",
    "@log\n",
    "def procesar_l(f,lista):\n",
    "    salida=[]\n",
    "    for i in lista:\n",
    "        salida.append(f(i)) #esta funcion es un map\n",
    "    return salida\n",
    "l=procesar_l(lambda x: bin(x),[1,2,3,4,5,6])\n",
    "print(l)"
   ]
  },
  {
   "cell_type": "markdown",
   "metadata": {},
   "source": [
    "* Podemos hacer clases decoradoras\n",
    "* Podemos decorar clases\n",
    "* Hay decoradores integrados (built-in) en python\n",
    "    * Properties\n",
    "    * classmethods\n",
    "    * staticmethods\n"
   ]
  },
  {
   "cell_type": "markdown",
   "metadata": {},
   "source": [
    "## Clases decoradoras\n",
    "La ventaja de hacer clases decoradoras es que el código está más organizado y podemos incluir más funcionalidad\n",
    "debemos  cargar los métodos \\__init\\__ y \\__call\\__"
   ]
  },
  {
   "cell_type": "code",
   "execution_count": 16,
   "metadata": {},
   "outputs": [
    {
     "name": "stdout",
     "output_type": "stream",
     "text": [
      "fun_producto :LLamada con argumentos : (1, 2, 3),{}\n",
      "Producto:6\n",
      "procesar_l :LLamada con argumentos : (<function <lambda> at 0x7fe548758268>, [1, 2, 3, 4, 5, 6]),{}\n",
      "['0b1', '0b10', '0b11', '0b100', '0b101', '0b110']\n"
     ]
    }
   ],
   "source": [
    "#Ejemplo anterior con clase decoradora\n",
    "class log(object):\n",
    "    def __init__(self,func):\n",
    "        self.func=func\n",
    "    def __call__(self,*args,**kwargs):\n",
    "        print(\"{} :LLamada con argumentos : {},{}\".format(self.func.__name__,args, kwargs))\n",
    "        return self.func(*args, **kwargs)\n",
    "@log\n",
    "def fun_producto(x,y=10,z=1):\n",
    "    print (\"Producto:{}\".format(x*y*z))\n",
    "    return x*y*z\n",
    "@log\n",
    "def procesar_l(f,lista):\n",
    "    salida=[]\n",
    "    for i in lista:\n",
    "        salida.append(f(i))\n",
    "    return salida\n",
    "\n",
    "fun_producto(1,2,3)\n",
    "l=procesar_l(lambda x: bin(x),[1,2,3,4,5,6])\n",
    "print(l)"
   ]
  },
  {
   "cell_type": "markdown",
   "metadata": {},
   "source": [
    "## Decorando una clase\n",
    "cuando un decorador se aplica a una clase, este obtiene por su método \\_\\_call\\_\\_ la clase a decorar"
   ]
  },
  {
   "cell_type": "code",
   "execution_count": null,
   "metadata": {},
   "outputs": [],
   "source": [
    "class Decorator(object):\n",
    "    def __init__(self, arg):\n",
    "        \"\"\" inyecta arg como atributo y el metodo: mimetodo\"\"\"\n",
    "        self.arg = arg\n",
    "        print(self.arg)\n",
    "        \n",
    "    def mimetodo(self,a):\n",
    "        print(\"este es mi metodo\")\n",
    "        return a*1.21\n",
    "    \n",
    "    def __call__(self, cls):\n",
    "        print(\"injecting attribute and method\")\n",
    "        setattr(cls,self.mimetodo.__name__,self.mimetodo)\n",
    "        setattr(cls,self.arg,21)\n",
    "        return cls\n",
    "    \n",
    "@Decorator(\"iva\")\n",
    "class TestClass(object):\n",
    "    def new_method(self, value):\n",
    "        return value * 3\n",
    "\n",
    "a=TestClass()\n",
    "print(a.new_method(8))\n",
    "print(a.iva)\n",
    "print(a.mimetodo(21))"
   ]
  },
  {
   "cell_type": "markdown",
   "metadata": {},
   "source": [
    "## Property\n",
    "* Es una forma de implementar métodos **getter y setter** para atributos de una clase \n",
    "* Nos permite encapsular la asignación del atributo y sobrecargarlo\n"
   ]
  },
  {
   "cell_type": "code",
   "execution_count": null,
   "metadata": {},
   "outputs": [],
   "source": [
    "class persona(object):\n",
    "    \"\"\"Vamos a hacer una clase persona \"\"\"\n",
    "    def __init__(self,nombre,edad,peso):\n",
    "        \"\"\"este es el construtor de persona\"\"\"\n",
    "        self._nombre = nombre\n",
    "        self._edad = edad\n",
    "        self._peso = peso\n",
    "        self.pet_peso=0\n",
    "        \n",
    "    @property\n",
    "    def nombre(self):\n",
    "        \"\"\"este es el getter de nombre\"\"\"\n",
    "        return self._nombre\n",
    "    \n",
    "    @nombre.setter\n",
    "    def nombre(self,nom):\n",
    "        \"\"\"este es el setter de nombre\"\"\"\n",
    "        if isinstance(nom,str):\n",
    "            self._nombre=nom\n",
    "            \n",
    "    @property\n",
    "    def peso(self):\n",
    "        \"\"\"getter de peso\"\"\"\n",
    "        self.pet_peso+=1\n",
    "        return self._peso\n",
    "    @peso.setter\n",
    "    def peso(self,pes):\n",
    "        \"\"\"setter de peso\"\"\"\n",
    "        self._peso=pes\n",
    "        \n",
    "per1 = persona(\"paco\",25,50)\n",
    "per1.nombre=\"paco andres hernandez\"\n",
    "per1.peso = 45\n",
    "print(per1.nombre,per1.peso,per1.pet_peso)"
   ]
  },
  {
   "cell_type": "markdown",
   "metadata": {},
   "source": [
    "## Statichmethod\n",
    "* Es un método asociado con la clase y **NO con las instancias**\n",
    "* No tiene **self**, sólo argumentos. No puede modificar ni la clase ni las instancias\n",
    "* **Solo sirve para definir utilidades.**  Mejor que tenerlas fuera de la clase. Accesible desde la clase y la instancia\n"
   ]
  },
  {
   "cell_type": "code",
   "execution_count": null,
   "metadata": {},
   "outputs": [],
   "source": [
    "class Date(object):\n",
    "    def __init__(self, day=0, month=0, year=0):\n",
    "        self.day = day\n",
    "        self.month = month\n",
    "        self.year = year\n",
    "        \n",
    "    def __str__(self):\n",
    "        return str(self.day)+\"-\"+str(self.month)+\"-\"+str(self.year)\n",
    "    \n",
    "    @classmethod\n",
    "    def from_string(cls, date_as_string):\n",
    "        day, month, year = map(int, date_as_string.split('-'))\n",
    "        date1 = cls(day, month, year)\n",
    "        return date1\n",
    "    \n",
    "    @staticmethod\n",
    "    def is_date_valid(date_as_string):\n",
    "        day, month, year = map(int, date_as_string.split('-'))\n",
    "        return day <= 31 and month <= 12 and year <= 3999\n",
    "    \n",
    "date1 = Date.from_string('20-02-2018')\n",
    "date2 = Date(21,2,2018)\n",
    "is_date = Date.is_date_valid('20-02-2018')\n",
    "print(date1)\n",
    "print(date2)\n",
    "print(is_date)"
   ]
  },
  {
   "cell_type": "markdown",
   "metadata": {},
   "source": [
    "## Classmethod\n",
    "* Un método de clase puede modificar el estado de una clase, **accediendo a los atributos** de dicha clase, aún cuando el método es invocado desde un objeto.\n",
    "* En lugar de definirse utilizando __self__ como primer parámetro, **se utiliza __cls__.**\n",
    "* Se usa para crear factory methods. Ejemplo distintos constructores"
   ]
  },
  {
   "cell_type": "code",
   "execution_count": null,
   "metadata": {},
   "outputs": [],
   "source": [
    "class PoblacionCensada():\n",
    "    '''Clase que registra la cantidad de habitantes de todas sus instancias.'''\n",
    "    poblacion = 0 # es un atributo de clase y de instancia\n",
    "    \n",
    "    '''Crea censos de población. '''\n",
    "    @classmethod\n",
    "    def opera_poblacion(cls, operador, cantidad):\n",
    "        '''registra el número total de población de todas las instancias de la clase.'''\n",
    "        cls.poblacion = eval(str(cls.poblacion) + operador + str(cantidad))\n",
    "        \n",
    "    @classmethod\n",
    "    def despliega_total(cls):\n",
    "        '''retorna el atributo de clase cls. población.'''\n",
    "        return cls.poblacion\n",
    "    \n",
    "    def __init__(self, nombre, numero=0):\n",
    "        print(\"Se ha creado la población {} con {} habitantes.\".format(nombre, numero))\n",
    "        self.nombre = nombre\n",
    "        self.poblacion = numero\n",
    "        self.opera_poblacion('+', self.poblacion)\n",
    "        \n",
    "    def __del__(self):\n",
    "        self.opera_poblacion('-', self.poblacion)\n",
    "        \n",
    "extremadura = [PoblacionCensada(\"plasencia\", 20000),\n",
    "PoblacionCensada(\"badajoz\", 120000),\n",
    "PoblacionCensada(\"caceres\", 80000),\n",
    "PoblacionCensada('merida', 50000)]\n",
    "print(extremadura[0].despliega_total())\n",
    "del extremadura[3]\n",
    "print(PoblacionCensada.despliega_total())"
   ]
  },
  {
   "cell_type": "markdown",
   "metadata": {},
   "source": [
    "# Metaprogramación\n",
    "* Metaprogramar consiste en modificar el comportamiento o construir CLASES antes de instanciarlas.\n",
    "* En este apartado veremos cómo se construyen las clases desde el más bajo nivel de Python.\n",
    "* Este aspecto es bastante complejo por lo que sólo veremos ciertos conceptos de iniciación.\n",
    "* Con los decoradores podemos conseguir este objetivo como hemos podido comprobar.\n",
    "\n",
    "* Si los objetos son instancias de las clases, las clases son instancias de las metaclases.\n",
    "* En Python todo está creado por clases. Los tipos básicos también.\n",
    "\n",
    "**¿De qué tipo son las clases?**\n",
    "\n",
    "Una clase es un OBJETO y deriva de una metaclase llamada TYPE"
   ]
  },
  {
   "cell_type": "code",
   "execution_count": 19,
   "metadata": {},
   "outputs": [
    {
     "name": "stdout",
     "output_type": "stream",
     "text": [
      "<class 'int'>\n",
      "<class 'str'>\n",
      "<class 'type'>\n",
      "<class 'type'>\n",
      "<class 'type'>\n"
     ]
    }
   ],
   "source": [
    "class A(object):\n",
    "   pass\n",
    "numero=1\n",
    "cadena=\"paco\"\n",
    "print(type(numero))\n",
    "print(type(cadena))\n",
    "print(type(int))\n",
    "print(type(str))\n",
    "print(type(A))\n"
   ]
  },
  {
   "cell_type": "markdown",
   "metadata": {},
   "source": [
    "UNA CLASE ES UN OBJETO\n",
    "* Podemos asignar sus atributos como en cualquier objeto.\n",
    "* Como ejemplo es interesante \n"
   ]
  },
  {
   "cell_type": "code",
   "execution_count": 20,
   "metadata": {},
   "outputs": [
    {
     "name": "stdout",
     "output_type": "stream",
     "text": [
      "esto es una prueba\n",
      "hola mundo\n",
      "10 ufffs\n",
      "{'__module__': '__main__', '__dict__': <attribute '__dict__' of 'BASE' objects>, '__weakref__': <attribute '__weakref__' of 'BASE' objects>, '__doc__': 'documentacion de la clase', 'atributo': 'esto es una prueba', 'funcion': <function <lambda> at 0x7fe5487a2f28>, '__init__': <function __init__ at 0x7fe5487a2b70>}\n"
     ]
    }
   ],
   "source": [
    "class BASE:pass\n",
    "def __init__(self,a,b):\n",
    "    self.a=a\n",
    "    self.b=b\n",
    "\n",
    "#Construccion de la clase\n",
    "BASE.atributo=\"esto es una prueba\"\n",
    "BASE.funcion= lambda self:print(\"hola mundo\")\n",
    "setattr(BASE,\"__init__\",__init__)\n",
    "setattr(BASE,\"__doc__\",\"documentacion de la clase\")\n",
    "\n",
    "obj=BASE(10,\"ufffs\")\n",
    "print(obj.atributo)\n",
    "obj.funcion()\n",
    "print(obj.a,obj.b)\n",
    "print(BASE.__dict__)"
   ]
  },
  {
   "cell_type": "markdown",
   "metadata": {},
   "source": [
    "También podemos crear clases utilizando la siguiente forma:\n",
    "\n",
    " ``type(<name>, (<herencia>,) ,dict(<atributo>:<value>, <method>:<value>)``"
   ]
  },
  {
   "cell_type": "code",
   "execution_count": null,
   "metadata": {},
   "outputs": [],
   "source": [
    "class BASE(object):\n",
    "    def base_metodo(self):\n",
    "        print(\"base_metodo\")\n",
    "    \n",
    "def nuevo_metodo(self):\n",
    "    print(\"soy nuevo metodo\")\n",
    "    \n",
    "A=type(\"A\",(BASE,), dict(y=\"paco\",inyectado=nuevo_metodo))\n",
    "obj=A()\n",
    "\n",
    "print(obj.y)\n",
    "obj.base_metodo()\n",
    "obj.inyectado()\n",
    "print(A.__dict__)"
   ]
  },
  {
   "cell_type": "markdown",
   "metadata": {},
   "source": [
    "* Otra forma de modificar comportamientos de clases es **sobreescribir su método \\_\\_new\\_\\_** \n",
    "* \\_\\_new\\_\\_ se ejecuta antes de instanciar el objeto con \\_\\_init\\_\\_ y toma como argumentos la clase.\n",
    "* Con metaclass podemos derivar la metaclase tipo para la construcción de las clases.\n",
    "\n"
   ]
  },
  {
   "cell_type": "code",
   "execution_count": 21,
   "metadata": {},
   "outputs": [
    {
     "name": "stdout",
     "output_type": "stream",
     "text": [
      "(<class '__main__.B'>, <class '__main__.Base'>, <class '__main__.control'>, <class 'object'>)\n",
      "4\n",
      "2\n"
     ]
    }
   ],
   "source": [
    "class control(object):\n",
    "    def control_mas(self,a,b):\n",
    "        return a+b\n",
    "    def control_menos(self,a,b):\n",
    "        return a-b\n",
    "    \n",
    "class sensores(type):\n",
    "    def __new__(cls, clsname, bases, clsdict):\n",
    "        bases=bases+(control,) # TODO SENSOR DEBE HEREDAR DE CONTROL\n",
    "        return super().__new__(cls, clsname, bases, clsdict)\n",
    "\n",
    "class Base(metaclass=sensores):\n",
    "    pass\n",
    "\n",
    "class A(Base):\n",
    "    pass\n",
    "\n",
    "class B(Base):\n",
    "    pass\n",
    "\n",
    "print(B.__mro__) #method resolution order. orden de herencia\n",
    "obj=A()\n",
    "print(obj.control_mas(1,3))\n",
    "print(obj.control_menos(10,8))"
   ]
  },
  {
   "cell_type": "markdown",
   "metadata": {},
   "source": [
    "* Python tiene un paquete de funciones que actúan sobre otras funciones (functools)\n",
    "* En functools puedes encontrar funciones de orden superior y un conjunto de funciones que modifican comportamientos\n",
    "* Si un objeto es callable ( implementa \\_\\_call\\_\\_ ) también podemos aplicar functools.\n",
    "* Entre ellas podemos encontrar:\n",
    "    * Partial:  permite fijar determinados parámetros a las funciones\n",
    "    * lru_cache: decorador que almacena una memoria cache de resultados de la función decorada\n",
    "….\n",
    "Mejor echarle un vistazo  \n"
   ]
  },
  {
   "cell_type": "markdown",
   "metadata": {},
   "source": [
    "## Un ejemplo más\n",
    "Este último ejemplo puede resumir lo que se puede hacer usando correctamente estas herramientas.\n",
    "\n",
    "Concretamente lo estamos implementando en robótica con Python cuando un componente tiene que publicar datos (topics) usando un broker de comunicaciones. Los datos que se generan accediendo al hardware son publicados sólo cuando estos se modifican. \n",
    "\n",
    "La idea es tratar que el uso y envio sean transparentes al programador. Por tanto el objeto debe comportarse como una colección (lista, diccionario) o un dato simple.\n",
    "\n",
    "La clase topic inspecciona el tipo del parámetro de entrada y cambia la clase que se va a usar para crear el objeto. \n",
    "Inyecta varios atributos automaticamente en la clase de salida.\n",
    "El objeto de salida debe comportarse como una clase colección base. Para ello sobrecarga sus magic methods que tienen que ver con la modificación."
   ]
  },
  {
   "cell_type": "code",
   "execution_count": 1,
   "metadata": {},
   "outputs": [
    {
     "name": "stdout",
     "output_type": "stream",
     "text": [
      "__acceso a topic list_____\n",
      "enviando init [1, 2, 3, 4] time 1553640005.9119165\n",
      "{'host': 'tcp://127.0.0.1:8000', '_last': None, '_type': <class 'list'>, '_name': 'base', 'data': [1, 2, 3, 4]}\n",
      "enviando init [0, 1, 2, 3, 4, 5, 6, 7, 8, 9, 10, 11, 12, 13, 14, 15, 16, 17, 18, 19] time 1553640005.9120884\n",
      "[0, 1, 2, 3, 4, 5, 6, 7, 8, 9, 10, 11, 12, 13, 14, 15, 16, 17, 18, 19]\n",
      "enviando setitem [0, 2, 3, 4] time 1553640005.912209\n",
      "tamaño:  4\n",
      "[0, 2]\n",
      "enviando call [3, 4, 5, 6] time 1553640005.9123938\n",
      "3\n",
      "4\n",
      "5\n",
      "6\n",
      "__acceso a topic dict_____\n",
      "enviando init {'a': 1, 'b': 2} time 1553640005.9126472\n",
      "enviando setitem {'a': 2, 'b': 2} time:1553640005.9127054\n",
      "{'a': 2, 'b': 2}\n",
      "enviando call {'k': 10, 'g': [1, 2, 3]} time:1553640005.9128191\n",
      "tamaño: 2\n",
      "clave: k, value: 10\n",
      "clave: g, value: [1, 2, 3]\n",
      "__acceso a topic simple_____\n",
      "enviando <class 'float'> 0.1 time 1553640005.9135103\n",
      "enviando <class 'float'> 0.2 time 1553640005.9135728\n",
      "enviando <class 'float'> 1.3 time 1553640005.9136288\n",
      "enviando <class 'float'> 1.1 time 1553640005.913683\n",
      "enviando <class 'float'> 2.2 time 1553640005.9137373\n",
      "enviando <class 'int'> 1 time 1553640005.9138024\n",
      "enviando <class 'int'> 1 time 1553640005.913869\n",
      "enviando <class 'int'> 2 time 1553640005.9138937\n",
      "enviando <class 'int'> 4 time 1553640005.9139152\n",
      "enviando <class 'int'> 7 time 1553640005.9139357\n",
      "enviando <class 'int'> 11 time 1553640005.9139562\n",
      "enviando <class 'int'> 16 time 1553640005.9158223\n",
      "enviando <class 'int'> 22 time 1553640005.9158638\n",
      "enviando <class 'int'> 29 time 1553640005.915884\n",
      "enviando <class 'int'> 37 time 1553640005.9159026\n",
      "enviando <class 'int'> 46 time 1553640005.9159207\n"
     ]
    }
   ],
   "source": [
    "import time\n",
    "from collections import UserList, UserDict\n",
    "\n",
    "\n",
    "class topic(object):\n",
    "    def __new__(cls, v,name):\n",
    "        if type(v) in (list,str):\n",
    "            mycls=topic_list\n",
    "        if type(v) is dict:\n",
    "            mycls=topic_dict\n",
    "        if type(v) in (float,int):\n",
    "            mycls=topic_simple\n",
    "        originalinit=mycls.__init__\n",
    "\n",
    "        def init(self,v):\n",
    "            setattr(self, \"host\", \"tcp://127.0.0.1:8000\")\n",
    "            setattr(self,\"_last\",None)\n",
    "            setattr(self,\"_type\",type(v))\n",
    "            setattr(self,\"_name\",name)\n",
    "            originalinit(self,v)\n",
    "\n",
    "        mycls.__init__=init\n",
    "        return mycls(v)\n",
    "\n",
    "\n",
    "class topic_simple(object):\n",
    "    def __init__(self,v):\n",
    "        self.data=v\n",
    "        print(\"enviando {} {} time {}\".format(self._type,self.data,time.time()))\n",
    "\n",
    "    def __send(self,v):\n",
    "        if type(v)!=self._type:\n",
    "            raise ErrorType\n",
    "        self._last=v\n",
    "        self.data=v\n",
    "        print(\"enviando {} {} time {}\".format(self._type,self.data,time.time()))\n",
    "\n",
    "    def __call__(self,v):\n",
    "        self.__send(v)\n",
    "\n",
    "    def __add__(self,v):\n",
    "        self.__send(self.data+v)\n",
    "        return self\n",
    "\n",
    "    def __sub__(self,v):\n",
    "        self.__send(self.data-v)\n",
    "        return self\n",
    "    def __mul__(self,v):\n",
    "        self.__send(self.data*v)\n",
    "        return self\n",
    "\n",
    "\n",
    "class topic_list(UserList):\n",
    "    def __init__(self,v):\n",
    "        self.data=v\n",
    "        #print(self.host)\n",
    "        print(\"enviando init {} time {}\".format(self.data,time.time()))\n",
    "\n",
    "    def __call__(self,v):\n",
    "        if type(v)!=self._type:\n",
    "            raise ErrorType\n",
    "        self._last=self.data\n",
    "        self.data=v\n",
    "        print(\"enviando call {} time {}\".format(self.data,time.time()))\n",
    "\n",
    "    def __setitem__(self, key, value):\n",
    "        self._last=self.data\n",
    "        self.data[key]=value\n",
    "        print(\"enviando setitem {} time {}\".format(self.data,time.time()))\n",
    "\n",
    "\n",
    "class topic_dict(UserDict):\n",
    "    def __init__(self,v):\n",
    "        self.data=v\n",
    "        print(\"enviando init {} time {}\".format(self.data,time.time()))\n",
    "\n",
    "    def __setitem__(self, key, item):\n",
    "        self._last=self.data\n",
    "        self.data[key] = item\n",
    "        print(\"enviando setitem {} time:{}\".format(self.data,time.time()))\n",
    "\n",
    "    def __delitem__(self, key):\n",
    "        self._last=self.data\n",
    "        del self.data[key]\n",
    "        print(\"enviando delitem {} time:{}\".format(self.data,time.time()))\n",
    "        return self.data\n",
    "\n",
    "    def clear(self):\n",
    "        self._last=self.data\n",
    "        self.data.clear()\n",
    "        print(\"enviando clear {} time:{}\".format(self.data,time.time()))\n",
    "        return self.data\n",
    "\n",
    "    def update(self, *args, **kwargs):\n",
    "        self._last=self.data\n",
    "        self.data.update(*args, **kwargs)\n",
    "        print(\"enviando update {} time:{}\".format(self.data,time.time()))\n",
    "        return self.data\n",
    "\n",
    "    def pop(self, *args):\n",
    "        self._last=self.data\n",
    "        self.data.pop(*args)\n",
    "        print(\"enviando pop {} time:{}\".format(self.data,time.time()))\n",
    "        return self.data\n",
    "\n",
    "    def __call__(self,v):\n",
    "        if type(v)!=self._type:\n",
    "            raise ErrorType\n",
    "        self._last=self.data\n",
    "        self.data=v\n",
    "        print(\"enviando call {} time:{}\".format(self.data,time.time()))\n",
    "\n",
    "\n",
    "\n",
    "print(\"__acceso a topic list_____\")\n",
    "base=topic([1,2,3,4],\"base\")\n",
    "print(base.__dict__)\n",
    "otra_base=topic([x for x in range(20)],\"otra_base\")\n",
    "print(otra_base)\n",
    "base[0]=0\n",
    "print(\"tamaño: \",len(base))\n",
    "print(base[0:2])\n",
    "base([3,4,5,6])\n",
    "for i in base:\n",
    "    print(i)\n",
    "print(\"__acceso a topic dict_____\")\n",
    "data=topic({\"a\":1,\"b\":2},\"data\")\n",
    "data[\"a\"]=2\n",
    "print(data)\n",
    "data({\"k\":10,\"g\":[1,2,3]})\n",
    "print(\"tamaño:\",len(data))\n",
    "for k,v in data.items():\n",
    "    print(\"clave: {}, value: {}\".format(k,v))\n",
    "print(\"__acceso a topic simple_____\")\n",
    "\n",
    "distancia=topic(0.1,\"distancia\")\n",
    "distancia(0.2)\n",
    "distancia=distancia+1.1\n",
    "distancia=distancia-0.2\n",
    "distancia=distancia*2.0\n",
    "dist=topic(1,\"dist\")\n",
    "for x in range(10):\n",
    "    dist=dist+x\n"
   ]
  },
  {
   "cell_type": "markdown",
   "metadata": {},
   "source": [
    "## Espero que os sea de utilidad\n",
    "## Gracias"
   ]
  }
 ],
 "metadata": {
  "kernelspec": {
   "display_name": "Python 3",
   "language": "python",
   "name": "python3"
  },
  "language_info": {
   "codemirror_mode": {
    "name": "ipython",
    "version": 3
   },
   "file_extension": ".py",
   "mimetype": "text/x-python",
   "name": "python",
   "nbconvert_exporter": "python",
   "pygments_lexer": "ipython3",
   "version": "3.7.1"
  }
 },
 "nbformat": 4,
 "nbformat_minor": 1
}
